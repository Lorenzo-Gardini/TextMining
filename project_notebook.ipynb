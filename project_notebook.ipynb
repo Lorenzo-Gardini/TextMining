{
 "cells": [
  {
   "cell_type": "code",
   "execution_count": 5,
   "outputs": [
    {
     "name": "stdout",
     "output_type": "stream",
     "text": [
      "Requirement already satisfied: fasttext in ./venv/lib/python3.7/site-packages (0.9.2)\r\n",
      "Requirement already satisfied: setuptools>=0.7.0 in ./venv/lib/python3.7/site-packages (from fasttext) (65.5.1)\r\n",
      "Requirement already satisfied: numpy in ./venv/lib/python3.7/site-packages (from fasttext) (1.21.6)\r\n",
      "Requirement already satisfied: pybind11>=2.2 in ./venv/lib/python3.7/site-packages (from fasttext) (2.11.1)\r\n",
      "\r\n",
      "\u001B[1m[\u001B[0m\u001B[34;49mnotice\u001B[0m\u001B[1;39;49m]\u001B[0m\u001B[39;49m A new release of pip available: \u001B[0m\u001B[31;49m22.3.1\u001B[0m\u001B[39;49m -> \u001B[0m\u001B[32;49m23.2.1\u001B[0m\r\n",
      "\u001B[1m[\u001B[0m\u001B[34;49mnotice\u001B[0m\u001B[1;39;49m]\u001B[0m\u001B[39;49m To update, run: \u001B[0m\u001B[32;49mpip install --upgrade pip\u001B[0m\r\n",
      "Requirement already satisfied: contractions in ./venv/lib/python3.7/site-packages (0.1.73)\r\n",
      "Requirement already satisfied: textsearch>=0.0.21 in ./venv/lib/python3.7/site-packages (from contractions) (0.0.24)\r\n",
      "Requirement already satisfied: anyascii in ./venv/lib/python3.7/site-packages (from textsearch>=0.0.21->contractions) (0.3.2)\r\n",
      "Requirement already satisfied: pyahocorasick in ./venv/lib/python3.7/site-packages (from textsearch>=0.0.21->contractions) (2.0.0)\r\n",
      "\r\n",
      "\u001B[1m[\u001B[0m\u001B[34;49mnotice\u001B[0m\u001B[1;39;49m]\u001B[0m\u001B[39;49m A new release of pip available: \u001B[0m\u001B[31;49m22.3.1\u001B[0m\u001B[39;49m -> \u001B[0m\u001B[32;49m23.2.1\u001B[0m\r\n",
      "\u001B[1m[\u001B[0m\u001B[34;49mnotice\u001B[0m\u001B[1;39;49m]\u001B[0m\u001B[39;49m To update, run: \u001B[0m\u001B[32;49mpip install --upgrade pip\u001B[0m\r\n",
      "Requirement already satisfied: pyspellchecker in ./venv/lib/python3.7/site-packages (0.7.2)\r\n",
      "\r\n",
      "\u001B[1m[\u001B[0m\u001B[34;49mnotice\u001B[0m\u001B[1;39;49m]\u001B[0m\u001B[39;49m A new release of pip available: \u001B[0m\u001B[31;49m22.3.1\u001B[0m\u001B[39;49m -> \u001B[0m\u001B[32;49m23.2.1\u001B[0m\r\n",
      "\u001B[1m[\u001B[0m\u001B[34;49mnotice\u001B[0m\u001B[1;39;49m]\u001B[0m\u001B[39;49m To update, run: \u001B[0m\u001B[32;49mpip install --upgrade pip\u001B[0m\r\n",
      "Requirement already satisfied: matplotlib in ./venv/lib/python3.7/site-packages (3.5.3)\r\n",
      "Requirement already satisfied: packaging>=20.0 in ./venv/lib/python3.7/site-packages (from matplotlib) (23.1)\r\n",
      "Requirement already satisfied: kiwisolver>=1.0.1 in ./venv/lib/python3.7/site-packages (from matplotlib) (1.4.5)\r\n",
      "Requirement already satisfied: numpy>=1.17 in ./venv/lib/python3.7/site-packages (from matplotlib) (1.21.6)\r\n",
      "Requirement already satisfied: python-dateutil>=2.7 in ./venv/lib/python3.7/site-packages (from matplotlib) (2.8.2)\r\n",
      "Requirement already satisfied: cycler>=0.10 in ./venv/lib/python3.7/site-packages (from matplotlib) (0.11.0)\r\n",
      "Requirement already satisfied: fonttools>=4.22.0 in ./venv/lib/python3.7/site-packages (from matplotlib) (4.38.0)\r\n",
      "Requirement already satisfied: pillow>=6.2.0 in ./venv/lib/python3.7/site-packages (from matplotlib) (9.5.0)\r\n",
      "Requirement already satisfied: pyparsing>=2.2.1 in ./venv/lib/python3.7/site-packages (from matplotlib) (3.1.1)\r\n",
      "Requirement already satisfied: typing-extensions in ./venv/lib/python3.7/site-packages (from kiwisolver>=1.0.1->matplotlib) (4.7.1)\r\n",
      "Requirement already satisfied: six>=1.5 in ./venv/lib/python3.7/site-packages (from python-dateutil>=2.7->matplotlib) (1.16.0)\r\n",
      "\r\n",
      "\u001B[1m[\u001B[0m\u001B[34;49mnotice\u001B[0m\u001B[1;39;49m]\u001B[0m\u001B[39;49m A new release of pip available: \u001B[0m\u001B[31;49m22.3.1\u001B[0m\u001B[39;49m -> \u001B[0m\u001B[32;49m23.2.1\u001B[0m\r\n",
      "\u001B[1m[\u001B[0m\u001B[34;49mnotice\u001B[0m\u001B[1;39;49m]\u001B[0m\u001B[39;49m To update, run: \u001B[0m\u001B[32;49mpip install --upgrade pip\u001B[0m\r\n",
      "Requirement already satisfied: seaborn in ./venv/lib/python3.7/site-packages (0.12.2)\r\n",
      "Requirement already satisfied: pandas>=0.25 in ./venv/lib/python3.7/site-packages (from seaborn) (1.1.5)\r\n",
      "Requirement already satisfied: matplotlib!=3.6.1,>=3.1 in ./venv/lib/python3.7/site-packages (from seaborn) (3.5.3)\r\n",
      "Requirement already satisfied: numpy!=1.24.0,>=1.17 in ./venv/lib/python3.7/site-packages (from seaborn) (1.21.6)\r\n",
      "Requirement already satisfied: typing_extensions in ./venv/lib/python3.7/site-packages (from seaborn) (4.7.1)\r\n",
      "Requirement already satisfied: cycler>=0.10 in ./venv/lib/python3.7/site-packages (from matplotlib!=3.6.1,>=3.1->seaborn) (0.11.0)\r\n",
      "Requirement already satisfied: pillow>=6.2.0 in ./venv/lib/python3.7/site-packages (from matplotlib!=3.6.1,>=3.1->seaborn) (9.5.0)\r\n",
      "Requirement already satisfied: python-dateutil>=2.7 in ./venv/lib/python3.7/site-packages (from matplotlib!=3.6.1,>=3.1->seaborn) (2.8.2)\r\n",
      "Requirement already satisfied: fonttools>=4.22.0 in ./venv/lib/python3.7/site-packages (from matplotlib!=3.6.1,>=3.1->seaborn) (4.38.0)\r\n",
      "Requirement already satisfied: pyparsing>=2.2.1 in ./venv/lib/python3.7/site-packages (from matplotlib!=3.6.1,>=3.1->seaborn) (3.1.1)\r\n",
      "Requirement already satisfied: packaging>=20.0 in ./venv/lib/python3.7/site-packages (from matplotlib!=3.6.1,>=3.1->seaborn) (23.1)\r\n",
      "Requirement already satisfied: kiwisolver>=1.0.1 in ./venv/lib/python3.7/site-packages (from matplotlib!=3.6.1,>=3.1->seaborn) (1.4.5)\r\n",
      "Requirement already satisfied: pytz>=2017.2 in ./venv/lib/python3.7/site-packages (from pandas>=0.25->seaborn) (2023.3.post1)\r\n",
      "Requirement already satisfied: six>=1.5 in ./venv/lib/python3.7/site-packages (from python-dateutil>=2.7->matplotlib!=3.6.1,>=3.1->seaborn) (1.16.0)\r\n",
      "\r\n",
      "\u001B[1m[\u001B[0m\u001B[34;49mnotice\u001B[0m\u001B[1;39;49m]\u001B[0m\u001B[39;49m A new release of pip available: \u001B[0m\u001B[31;49m22.3.1\u001B[0m\u001B[39;49m -> \u001B[0m\u001B[32;49m23.2.1\u001B[0m\r\n",
      "\u001B[1m[\u001B[0m\u001B[34;49mnotice\u001B[0m\u001B[1;39;49m]\u001B[0m\u001B[39;49m To update, run: \u001B[0m\u001B[32;49mpip install --upgrade pip\u001B[0m\r\n",
      "Requirement already satisfied: nltk in ./venv/lib/python3.7/site-packages (3.8.1)\r\n",
      "Requirement already satisfied: regex>=2021.8.3 in ./venv/lib/python3.7/site-packages (from nltk) (2023.8.8)\r\n",
      "Requirement already satisfied: tqdm in ./venv/lib/python3.7/site-packages (from nltk) (4.66.1)\r\n",
      "Requirement already satisfied: joblib in ./venv/lib/python3.7/site-packages (from nltk) (1.3.2)\r\n",
      "Requirement already satisfied: click in ./venv/lib/python3.7/site-packages (from nltk) (8.1.7)\r\n",
      "Requirement already satisfied: importlib-metadata in ./venv/lib/python3.7/site-packages (from click->nltk) (6.7.0)\r\n",
      "Requirement already satisfied: zipp>=0.5 in ./venv/lib/python3.7/site-packages (from importlib-metadata->click->nltk) (3.15.0)\r\n",
      "Requirement already satisfied: typing-extensions>=3.6.4 in ./venv/lib/python3.7/site-packages (from importlib-metadata->click->nltk) (4.7.1)\r\n",
      "\r\n",
      "\u001B[1m[\u001B[0m\u001B[34;49mnotice\u001B[0m\u001B[1;39;49m]\u001B[0m\u001B[39;49m A new release of pip available: \u001B[0m\u001B[31;49m22.3.1\u001B[0m\u001B[39;49m -> \u001B[0m\u001B[32;49m23.2.1\u001B[0m\r\n",
      "\u001B[1m[\u001B[0m\u001B[34;49mnotice\u001B[0m\u001B[1;39;49m]\u001B[0m\u001B[39;49m To update, run: \u001B[0m\u001B[32;49mpip install --upgrade pip\u001B[0m\r\n",
      "Requirement already satisfied: wordcloud in ./venv/lib/python3.7/site-packages (1.9.2)\r\n",
      "Requirement already satisfied: pillow in ./venv/lib/python3.7/site-packages (from wordcloud) (9.5.0)\r\n",
      "Requirement already satisfied: matplotlib in ./venv/lib/python3.7/site-packages (from wordcloud) (3.5.3)\r\n",
      "Requirement already satisfied: numpy>=1.6.1 in ./venv/lib/python3.7/site-packages (from wordcloud) (1.21.6)\r\n",
      "Requirement already satisfied: fonttools>=4.22.0 in ./venv/lib/python3.7/site-packages (from matplotlib->wordcloud) (4.38.0)\r\n",
      "Requirement already satisfied: python-dateutil>=2.7 in ./venv/lib/python3.7/site-packages (from matplotlib->wordcloud) (2.8.2)\r\n",
      "Requirement already satisfied: pyparsing>=2.2.1 in ./venv/lib/python3.7/site-packages (from matplotlib->wordcloud) (3.1.1)\r\n",
      "Requirement already satisfied: packaging>=20.0 in ./venv/lib/python3.7/site-packages (from matplotlib->wordcloud) (23.1)\r\n",
      "Requirement already satisfied: cycler>=0.10 in ./venv/lib/python3.7/site-packages (from matplotlib->wordcloud) (0.11.0)\r\n",
      "Requirement already satisfied: kiwisolver>=1.0.1 in ./venv/lib/python3.7/site-packages (from matplotlib->wordcloud) (1.4.5)\r\n",
      "Requirement already satisfied: typing-extensions in ./venv/lib/python3.7/site-packages (from kiwisolver>=1.0.1->matplotlib->wordcloud) (4.7.1)\r\n",
      "Requirement already satisfied: six>=1.5 in ./venv/lib/python3.7/site-packages (from python-dateutil>=2.7->matplotlib->wordcloud) (1.16.0)\r\n",
      "\r\n",
      "\u001B[1m[\u001B[0m\u001B[34;49mnotice\u001B[0m\u001B[1;39;49m]\u001B[0m\u001B[39;49m A new release of pip available: \u001B[0m\u001B[31;49m22.3.1\u001B[0m\u001B[39;49m -> \u001B[0m\u001B[32;49m23.2.1\u001B[0m\r\n",
      "\u001B[1m[\u001B[0m\u001B[34;49mnotice\u001B[0m\u001B[1;39;49m]\u001B[0m\u001B[39;49m To update, run: \u001B[0m\u001B[32;49mpip install --upgrade pip\u001B[0m\r\n",
      "Requirement already satisfied: scikit-learn in ./venv/lib/python3.7/site-packages (1.0.2)\r\n",
      "Requirement already satisfied: scipy in ./venv/lib/python3.7/site-packages (1.7.3)\r\n",
      "Requirement already satisfied: threadpoolctl>=2.0.0 in ./venv/lib/python3.7/site-packages (from scikit-learn) (3.1.0)\r\n",
      "Requirement already satisfied: numpy>=1.14.6 in ./venv/lib/python3.7/site-packages (from scikit-learn) (1.21.6)\r\n",
      "Requirement already satisfied: joblib>=0.11 in ./venv/lib/python3.7/site-packages (from scikit-learn) (1.3.2)\r\n",
      "\r\n",
      "\u001B[1m[\u001B[0m\u001B[34;49mnotice\u001B[0m\u001B[1;39;49m]\u001B[0m\u001B[39;49m A new release of pip available: \u001B[0m\u001B[31;49m22.3.1\u001B[0m\u001B[39;49m -> \u001B[0m\u001B[32;49m23.2.1\u001B[0m\r\n",
      "\u001B[1m[\u001B[0m\u001B[34;49mnotice\u001B[0m\u001B[1;39;49m]\u001B[0m\u001B[39;49m To update, run: \u001B[0m\u001B[32;49mpip install --upgrade pip\u001B[0m\r\n"
     ]
    }
   ],
   "source": [
    "# !pip install fasttext -U\n",
    "# !pip install contractions -U\n",
    "# !pip install pyspellchecker -U\n",
    "# !pip install matplotlib -U\n",
    "# !pip install seaborn -U\n",
    "# !pip install nltk -U\n",
    "# !pip install wordcloud -U\n",
    "# !pip install scikit-learn -U\n",
    "# !pip install scipy -U\n",
    "# !pip install certifi"
   ],
   "metadata": {
    "collapsed": false,
    "ExecuteTime": {
     "end_time": "2023-09-12T14:15:09.228426Z",
     "start_time": "2023-09-12T14:14:54.836390Z"
    }
   },
   "id": "f411553c0d03d7b4"
  },
  {
   "cell_type": "code",
   "execution_count": 18,
   "outputs": [
    {
     "name": "stdout",
     "output_type": "stream",
     "text": [
      "zsh:1: command not found: wget\r\n"
     ]
    }
   ],
   "source": [
    "# !wget -P resources/ 'https://dl.fbaipublicfiles.com/fasttext/supervised-models/lid.176.bin'\n",
    "# !gdown \"0Bz8a_Dbh9QhbZVhsUnRWRDhETzA\" -O \"resources/dataset.zip\""
   ],
   "metadata": {
    "collapsed": false,
    "ExecuteTime": {
     "end_time": "2023-09-12T14:19:00.543729Z",
     "start_time": "2023-09-12T14:19:00.347593Z"
    }
   },
   "id": "8d2260e949953271"
  },
  {
   "cell_type": "markdown",
   "source": [
    "## Imports"
   ],
   "metadata": {
    "collapsed": false
   },
   "id": "f87930498a7502a7"
  },
  {
   "cell_type": "code",
   "execution_count": 105,
   "outputs": [
    {
     "name": "stderr",
     "output_type": "stream",
     "text": [
      "[nltk_data] Downloading package stopwords to\n",
      "[nltk_data]     /Users/gardini/nltk_data...\n",
      "[nltk_data]   Package stopwords is already up-to-date!\n",
      "[nltk_data] Downloading package punkt to /Users/gardini/nltk_data...\n",
      "[nltk_data]   Package punkt is already up-to-date!\n",
      "[nltk_data] Downloading package stopwords to\n",
      "[nltk_data]     /Users/gardini/nltk_data...\n",
      "[nltk_data]   Package stopwords is already up-to-date!\n"
     ]
    },
    {
     "data": {
      "text/plain": "True"
     },
     "execution_count": 105,
     "metadata": {},
     "output_type": "execute_result"
    }
   ],
   "source": [
    "import pandas as pd\n",
    "import fasttext\n",
    "from typing import List, Callable, Tuple\n",
    "import seaborn as sns\n",
    "import warnings\n",
    "import matplotlib.pyplot as plt\n",
    "from nltk.corpus import stopwords\n",
    "import string\n",
    "import os\n",
    "import concurrent.futures\n",
    "import contractions\n",
    "from nltk.tokenize import word_tokenize\n",
    "from sklearn.utils.extmath import randomized_svd\n",
    "from spellchecker import SpellChecker\n",
    "import nltk\n",
    "from wordcloud import WordCloud\n",
    "import re\n",
    "import numpy as np\n",
    "from numpy import diag\n",
    "from scipy.sparse.linalg import svds\n",
    "from sklearn.feature_extraction.text import CountVectorizer\n",
    "from sklearn.feature_extraction.text import TfidfVectorizer\n",
    "from scipy.sparse import csr_matrix\n",
    "import ssl\n",
    "ssl._create_default_https_context = ssl._create_unverified_context\n",
    "warnings.filterwarnings(\"ignore\", category=FutureWarning)\n",
    "warnings.filterwarnings(\"ignore\", category=UserWarning)\n",
    "nltk.download('stopwords')\n",
    "nltk.download('punkt')\n",
    "nltk.download('stopwords')"
   ],
   "metadata": {
    "collapsed": false,
    "ExecuteTime": {
     "end_time": "2023-09-12T15:31:10.641608Z",
     "start_time": "2023-09-12T15:31:10.366464Z"
    }
   },
   "id": "25046bef987ce863"
  },
  {
   "cell_type": "markdown",
   "source": [
    "## Constants"
   ],
   "metadata": {
    "collapsed": false
   },
   "id": "20805c0a763ea786"
  },
  {
   "cell_type": "code",
   "execution_count": 6,
   "outputs": [],
   "source": [
    "RESOURCES_FOLDER = 'resources'\n",
    "FAST_TEXT_MODEL = f'{RESOURCES_FOLDER}/lid.176.bin'\n",
    "TRAIN_PATH = f'{RESOURCES_FOLDER}/train.csv'\n",
    "NEGATIVE_STOPWORDS = {\n",
    "    'not',\n",
    "    'no',\n",
    "    'none',\n",
    "    'neither',\n",
    "    'nor',\n",
    "    'never',\n",
    "    'nowhere',\n",
    "    'nothing',\n",
    "    'nobody',\n",
    "    'hardly',\n",
    "    'scarcely',\n",
    "    'barely',\n",
    "    'doesn\\'t',\n",
    "    'isn\\'t',\n",
    "    'wasn\\'t',\n",
    "    'hasn\\'t',\n",
    "    'can\\'t',\n",
    "    'couldn\\'t',\n",
    "    'won\\'t',\n",
    "    'wouldn\\'t',\n",
    "    'don\\'t',\n",
    "    'didn\\'t',\n",
    "    'aren\\'t',\n",
    "    'aren\\'t',\n",
    "    'weren\\'t',\n",
    "    'hasn\\'t',\n",
    "    'shouldn\\'t',\n",
    "    'mustn\\'t',\n",
    "    'mightn\\'t',\n",
    "    'shan\\'t',\n",
    "    'needn\\'t'\n",
    "}"
   ],
   "metadata": {
    "collapsed": false,
    "ExecuteTime": {
     "end_time": "2023-09-12T14:29:11.773368Z",
     "start_time": "2023-09-12T14:29:11.763249Z"
    }
   },
   "id": "8cafe715259f7f76"
  },
  {
   "cell_type": "markdown",
   "source": [
    "## Utility functions"
   ],
   "metadata": {
    "collapsed": false
   },
   "id": "260fce66f65826c5"
  },
  {
   "cell_type": "markdown",
   "source": [
    "- `sample balanced`: takes at most `max_samples_per_class` from each class specified in `groupby_column`\n",
    "- `compute_languages`: compute language for specified Series. It creates a new Series with `__label__[language]` for each text in the original Series"
   ],
   "metadata": {
    "collapsed": false
   },
   "id": "d57b6e054b155721"
  },
  {
   "cell_type": "markdown",
   "source": [
    "### DataFrame processing"
   ],
   "metadata": {
    "collapsed": false
   },
   "id": "e548447ec29e2313"
  },
  {
   "cell_type": "code",
   "execution_count": 7,
   "outputs": [],
   "source": [
    "def sample_balanced(dataframe: pd.DataFrame, \n",
    "                    max_samples_per_class: int = 20_000, \n",
    "                    groupby_column: str = 'stars', \n",
    "                    random_state: int = 1234):\n",
    "  return dataframe.groupby(groupby_column)\\\n",
    "  .apply(lambda x: x.sample(max_samples_per_class, random_state=random_state))\\\n",
    "  .reset_index(drop=True)\n",
    "\n",
    "def compute_languages(texts: pd.Series):\n",
    "  model = fasttext.load_model(FAST_TEXT_MODEL)\n",
    "  return texts.apply(lambda x:model.predict(x)[0][0])\n",
    "\n",
    "def set_columns(columns: List[str]):\n",
    "  def _set_columns(dataframe: pd.DataFrame):\n",
    "    dataframe.columns = columns\n",
    "    return dataframe\n",
    "  return _set_columns\n",
    "\n",
    "def drop_na():\n",
    "  def _drop_na(dataframe: pd.DataFrame):\n",
    "    return dataframe.dropna()\n",
    "  return _drop_na\n",
    "\n",
    "def remove_not_modal_languages(extracted_languages: pd.Series):\n",
    "  def _remove_languages(dataframe: pd.DataFrame):\n",
    "    modal_language = extracted_languages.value_counts().index[0]\n",
    "    return dataframe[extracted_languages == modal_language].reset_index(drop=True)\n",
    "  return _remove_languages\n",
    "\n",
    "def compute_and_remove_not_modal_languages(text_column: str = 'text'):\n",
    "  def _compute_and_remove(dataframe: pd.DataFrame):\n",
    "    computed_languages = compute_languages(dataframe[text_column])\n",
    "    return remove_not_modal_languages(computed_languages)(dataframe)\n",
    "  return _compute_and_remove\n",
    "\n",
    "def apply_preprocess(preprocess_functions: List[Callable]):\n",
    "  def _apply_preprocess(dataframe: pd.DataFrame):\n",
    "    for function in preprocess_functions:\n",
    "      dataframe = function(dataframe)\n",
    "    return dataframe\n",
    "  return _apply_preprocess"
   ],
   "metadata": {
    "collapsed": false,
    "ExecuteTime": {
     "end_time": "2023-09-12T14:29:12.361692Z",
     "start_time": "2023-09-12T14:29:12.355839Z"
    }
   },
   "id": "66ffacc3f1815ceb"
  },
  {
   "cell_type": "markdown",
   "source": [
    "### Text processing"
   ],
   "metadata": {
    "collapsed": false
   },
   "id": "65b5a6fc7ffb1c17"
  },
  {
   "cell_type": "code",
   "execution_count": 71,
   "outputs": [],
   "source": [
    "def to_lower(text: str):\n",
    "  return text.lower()\n",
    "\n",
    "def expand_contraction(word: str):\n",
    "  return contractions.fix(word)\n",
    "\n",
    "def is_stopword(language: str = 'english'):\n",
    "  stopwords_set = set(stopwords.words(language)) - NEGATIVE_STOPWORDS\n",
    "  def _is_stopword(word: str):\n",
    "    return word in stopwords_set\n",
    "  return _is_stopword\n",
    "\n",
    "def cleared_stopwords(language: str = 'english'):\n",
    "    return set(stopwords.words(language)) - NEGATIVE_STOPWORDS\n",
    "\n",
    "def is_punctuation(word: str):\n",
    "  return word in string.punctuation\n",
    "\n",
    "def is_number(s):\n",
    "    try:\n",
    "        float(s)\n",
    "        return True\n",
    "    except ValueError:\n",
    "        return False\n",
    "\n",
    "def correct_word(language: str = 'eng'):\n",
    "  checker = SpellChecker(language)\n",
    "  def _correct_words(word: str):\n",
    "    return checker.correction(word)\n",
    "  return _correct_words\n",
    "\n",
    "def tokenize(text: str):\n",
    "  return word_tokenize(text)\n",
    "\n",
    "def split(text: str):\n",
    "    return text.split()\n",
    "\n",
    "def preprocess_text(text: str):\n",
    "    # correct_word_fn = np.vectorize(correct_word('en'))\n",
    "    expand_contraction_fn = np.vectorize(expand_contraction)\n",
    "    lower = text.lower()\n",
    "    no_numbers = re.sub(r'\\d+', '', lower)\n",
    "    split_text = np.array(split(no_numbers), dtype=object)\n",
    "    # corrected_words = correct_word_fn(split_text)\n",
    "    # expanded_contraction = expand_contraction_fn(corrected_words[corrected_words != None])\n",
    "    expanded_contraction = expand_contraction_fn(split_text)\n",
    "    no_punctuation = re.sub(r'[^a-z]', ' ', ' '.join(expanded_contraction)).strip()\n",
    "    no_stopwords_pattern = r'\\b(?:' + '|'.join(map(re.escape, cleared_stopwords('english'))) + r')\\b'\n",
    "    no_stopwords = re.sub(no_stopwords_pattern, ' ', no_punctuation)\n",
    "    no_more_spaces = re.sub(r'\\s+', ' ', no_stopwords).strip()\n",
    "    return no_more_spaces\n",
    "\n",
    "def apply_concurrent(function: Callable[[str], str], workers:int = os.cpu_count(), ):\n",
    "  def _preprocess_series(series: pd.Series):\n",
    "    with concurrent.futures.ThreadPoolExecutor(workers) as executor:\n",
    "        return list(executor.map(function, series.values))\n",
    "  return _preprocess_series\n",
    "  "
   ],
   "metadata": {
    "collapsed": false,
    "ExecuteTime": {
     "end_time": "2023-09-12T15:13:22.070740Z",
     "start_time": "2023-09-12T15:13:22.045887Z"
    }
   },
   "id": "5dd7d9fdeebdec2f"
  },
  {
   "cell_type": "markdown",
   "source": [
    "## LSA Manipulation"
   ],
   "metadata": {
    "collapsed": false
   },
   "id": "427c1744c4595260"
  },
  {
   "cell_type": "code",
   "execution_count": 108,
   "outputs": [],
   "source": [
    "def tf_idf(corpus: pd.Series) -> Tuple[np.matrix, np.array]:\n",
    "    tfidf_vectorizer = TfidfVectorizer()\n",
    "    tfidf_matrix = tfidf_vectorizer.fit_transform(corpus)\n",
    "    # l2 norm is already applied by TfidfVectorizer\n",
    "    return tfidf_matrix, tfidf_vectorizer.get_feature_names_out()\n",
    "\n",
    "def normalize(values: np.array):\n",
    "    l2_norm = np.linalg.norm(values, ord=2)\n",
    "    return values / l2_norm\n",
    "\n",
    "\n",
    "def sparsity(sparse_matrix: csr_matrix):\n",
    "    print(sparse_matrix.shape)\n",
    "    total_elements = sparse_matrix.shape[0] * sparse_matrix.shape[1]\n",
    "    zero_elements = total_elements - sparse_matrix.count_nonzero()\n",
    "    return zero_elements / total_elements    "
   ],
   "metadata": {
    "collapsed": false,
    "ExecuteTime": {
     "end_time": "2023-09-12T15:33:58.413987Z",
     "start_time": "2023-09-12T15:33:58.392277Z"
    }
   },
   "id": "9542e0827ad9e8d6"
  },
  {
   "cell_type": "markdown",
   "source": [
    "### Visualization"
   ],
   "metadata": {
    "collapsed": false
   },
   "id": "2316477478cf0640"
  },
  {
   "cell_type": "code",
   "execution_count": 75,
   "outputs": [],
   "source": [
    "def plot_distribution(distribution: pd.Series, \n",
    "                      xlabel:str = '', \n",
    "                      ylabel:str = '', \n",
    "                      title: str = '', \n",
    "                      invert_axis: bool = False):\n",
    "  plt.figure(figsize=(8, 4))  # Optional: Adjust the figure size\n",
    "  data = distribution.to_list() if not invert_axis else list(distribution.index)\n",
    "  index = list(distribution.index) if not invert_axis else distribution.to_list()\n",
    "  sns.barplot(x=data, y=index)\n",
    "  plt.xlabel(xlabel)\n",
    "  plt.ylabel(ylabel)\n",
    "  plt.title(title)\n",
    "  plt.show()\n",
    "  \n",
    "def plot_singular_values(singular_values: List[float]):\n",
    "    plt.figure(figsize=(8, 6))\n",
    "    sns.lineplot(x=np.arange(1, len(singular_values) + 1), y=singular_values, marker='o')\n",
    "    #plt.yscale('log')  # Use a logarithmic scale for the y-axis (optional)\n",
    "    plt.title('Singular Values')    \n",
    "    plt.show()\n",
    "\n",
    "def word_cloud(text: str, title: str = \"\"):\n",
    "  wordcloud = WordCloud(width=800, height=400, background_color='white').generate(text)\n",
    "  plt.figure(figsize=(10, 5))\n",
    "  plt.imshow(wordcloud, interpolation='bilinear')\n",
    "  plt.title(title)\n",
    "  plt.axis('off')  # Hide the axis\n",
    "  plt.show()"
   ],
   "metadata": {
    "collapsed": false,
    "ExecuteTime": {
     "end_time": "2023-09-12T15:13:44.930436Z",
     "start_time": "2023-09-12T15:13:44.912861Z"
    }
   },
   "id": "e328adce90100f9a"
  },
  {
   "cell_type": "markdown",
   "source": [
    "## Load the data"
   ],
   "metadata": {
    "collapsed": false
   },
   "id": "51dc09a89a2ced8a"
  },
  {
   "cell_type": "markdown",
   "source": [
    "Dataset is a csv divided in 3 columns:\n",
    "- *stars*: is the number of stars given by users in the review\n",
    "- *title*: is the title of the review\n",
    "- *text*: is the text of the review\n",
    "\n",
    "Loading of dataframe, the original csv doesn't have column names, so I add it."
   ],
   "metadata": {
    "collapsed": false
   },
   "id": "1e20034ed736c0aa"
  },
  {
   "cell_type": "code",
   "execution_count": 11,
   "outputs": [
    {
     "data": {
      "text/plain": "         stars                                  title  \\\n0            3                     more like funchuck   \n1            5                              Inspiring   \n2            5  The best soundtrack ever to anything.   \n3            4                       Chrono Cross OST   \n4            5                    Too good to be true   \n...        ...                                    ...   \n2999995      1                          Don't do it!!   \n2999996      2          Looks nice, low functionality   \n2999997      2             compact, but hard to clean   \n2999998      3                         Hard to clean!   \n2999999      1                     what is it saying?   \n\n                                                      text  \n0        Gave this to my dad for a gag gift after direc...  \n1        I hope a lot of people hear this cd. We need m...  \n2        I'm reading a lot of reviews saying that this ...  \n3        The music of Yasunori Misuda is without questi...  \n4        Probably the greatest soundtrack in history! U...  \n...                                                    ...  \n2999995  The high chair looks great when it first comes...  \n2999996  I have used this highchair for 2 kids now and ...  \n2999997  We have a small house, and really wanted two o...  \n2999998  I agree with everyone else who says this chair...  \n2999999  not sure what this book is supposed to be. It ...  \n\n[3000000 rows x 3 columns]",
      "text/html": "<div>\n<style scoped>\n    .dataframe tbody tr th:only-of-type {\n        vertical-align: middle;\n    }\n\n    .dataframe tbody tr th {\n        vertical-align: top;\n    }\n\n    .dataframe thead th {\n        text-align: right;\n    }\n</style>\n<table border=\"1\" class=\"dataframe\">\n  <thead>\n    <tr style=\"text-align: right;\">\n      <th></th>\n      <th>stars</th>\n      <th>title</th>\n      <th>text</th>\n    </tr>\n  </thead>\n  <tbody>\n    <tr>\n      <th>0</th>\n      <td>3</td>\n      <td>more like funchuck</td>\n      <td>Gave this to my dad for a gag gift after direc...</td>\n    </tr>\n    <tr>\n      <th>1</th>\n      <td>5</td>\n      <td>Inspiring</td>\n      <td>I hope a lot of people hear this cd. We need m...</td>\n    </tr>\n    <tr>\n      <th>2</th>\n      <td>5</td>\n      <td>The best soundtrack ever to anything.</td>\n      <td>I'm reading a lot of reviews saying that this ...</td>\n    </tr>\n    <tr>\n      <th>3</th>\n      <td>4</td>\n      <td>Chrono Cross OST</td>\n      <td>The music of Yasunori Misuda is without questi...</td>\n    </tr>\n    <tr>\n      <th>4</th>\n      <td>5</td>\n      <td>Too good to be true</td>\n      <td>Probably the greatest soundtrack in history! U...</td>\n    </tr>\n    <tr>\n      <th>...</th>\n      <td>...</td>\n      <td>...</td>\n      <td>...</td>\n    </tr>\n    <tr>\n      <th>2999995</th>\n      <td>1</td>\n      <td>Don't do it!!</td>\n      <td>The high chair looks great when it first comes...</td>\n    </tr>\n    <tr>\n      <th>2999996</th>\n      <td>2</td>\n      <td>Looks nice, low functionality</td>\n      <td>I have used this highchair for 2 kids now and ...</td>\n    </tr>\n    <tr>\n      <th>2999997</th>\n      <td>2</td>\n      <td>compact, but hard to clean</td>\n      <td>We have a small house, and really wanted two o...</td>\n    </tr>\n    <tr>\n      <th>2999998</th>\n      <td>3</td>\n      <td>Hard to clean!</td>\n      <td>I agree with everyone else who says this chair...</td>\n    </tr>\n    <tr>\n      <th>2999999</th>\n      <td>1</td>\n      <td>what is it saying?</td>\n      <td>not sure what this book is supposed to be. It ...</td>\n    </tr>\n  </tbody>\n</table>\n<p>3000000 rows × 3 columns</p>\n</div>"
     },
     "execution_count": 11,
     "metadata": {},
     "output_type": "execute_result"
    }
   ],
   "source": [
    "train = pd.read_csv(TRAIN_PATH, header=None)\n",
    "train = set_columns(['stars', 'title', 'text'])(train)\n",
    "train"
   ],
   "metadata": {
    "collapsed": false,
    "ExecuteTime": {
     "end_time": "2023-09-12T14:29:34.417023Z",
     "start_time": "2023-09-12T14:29:13.619137Z"
    }
   },
   "id": "954458d312ef4624"
  },
  {
   "cell_type": "markdown",
   "source": [
    "Show the number of elements for each class"
   ],
   "metadata": {
    "collapsed": false
   },
   "id": "a19a26e9841bcb8f"
  },
  {
   "cell_type": "code",
   "execution_count": 12,
   "outputs": [
    {
     "data": {
      "text/plain": "5    600000\n4    600000\n3    600000\n2    600000\n1    600000\nName: stars, dtype: int64"
     },
     "execution_count": 12,
     "metadata": {},
     "output_type": "execute_result"
    }
   ],
   "source": [
    "train['stars'].value_counts()"
   ],
   "metadata": {
    "collapsed": false,
    "ExecuteTime": {
     "end_time": "2023-09-12T14:29:34.546711Z",
     "start_time": "2023-09-12T14:29:34.414878Z"
    }
   },
   "id": "598a45e0e3f317fd"
  },
  {
   "cell_type": "markdown",
   "source": [
    "As we can see classes are balanced. Now check the number of NaNs"
   ],
   "metadata": {
    "collapsed": false
   },
   "id": "d6fa3e88528412bd"
  },
  {
   "cell_type": "code",
   "execution_count": 13,
   "outputs": [
    {
     "data": {
      "text/plain": "stars     0\ntitle    76\ntext      0\ndtype: int64"
     },
     "execution_count": 13,
     "metadata": {},
     "output_type": "execute_result"
    }
   ],
   "source": [
    "train.isna().sum()"
   ],
   "metadata": {
    "collapsed": false,
    "ExecuteTime": {
     "end_time": "2023-09-12T14:29:36.026314Z",
     "start_time": "2023-09-12T14:29:34.454300Z"
    }
   },
   "id": "853733b8bd017ab2"
  },
  {
   "cell_type": "markdown",
   "source": [
    "Remove empty cells"
   ],
   "metadata": {
    "collapsed": false
   },
   "id": "229e25352bf6fa44"
  },
  {
   "cell_type": "code",
   "execution_count": 14,
   "outputs": [
    {
     "data": {
      "text/plain": "stars    0\ntitle    0\ntext     0\ndtype: int64"
     },
     "execution_count": 14,
     "metadata": {},
     "output_type": "execute_result"
    }
   ],
   "source": [
    "train = drop_na()(train)\n",
    "train.isna().sum()"
   ],
   "metadata": {
    "collapsed": false,
    "ExecuteTime": {
     "end_time": "2023-09-12T14:29:39.585236Z",
     "start_time": "2023-09-12T14:29:36.021318Z"
    }
   },
   "id": "abdfd5a380d7180d"
  },
  {
   "cell_type": "markdown",
   "source": [
    "Since the dataframe is very large operations on text could be very slow. Let's select only 30_000 instances for each class"
   ],
   "metadata": {
    "collapsed": false
   },
   "id": "5b3ea5bd754d766a"
  },
  {
   "cell_type": "code",
   "execution_count": 15,
   "outputs": [
    {
     "data": {
      "text/plain": "5    15000\n4    15000\n3    15000\n2    15000\n1    15000\nName: stars, dtype: int64"
     },
     "execution_count": 15,
     "metadata": {},
     "output_type": "execute_result"
    }
   ],
   "source": [
    "train = sample_balanced(train, max_samples_per_class=15_000, groupby_column='stars')\n",
    "train['stars'].value_counts()"
   ],
   "metadata": {
    "collapsed": false,
    "ExecuteTime": {
     "end_time": "2023-09-12T14:29:41.657793Z",
     "start_time": "2023-09-12T14:29:39.578102Z"
    }
   },
   "id": "5800f8a0a55749d4"
  },
  {
   "cell_type": "markdown",
   "source": [
    "Author specifies that there are some reviews not in English. Let's use fasttext, developed by Facebook, to find the languages."
   ],
   "metadata": {
    "collapsed": false
   },
   "id": "e9e60d77151fc960"
  },
  {
   "cell_type": "code",
   "execution_count": 16,
   "outputs": [
    {
     "name": "stderr",
     "output_type": "stream",
     "text": [
      "Warning : `load_model` does not return WordVectorModel or SupervisedModel any more, but a `FastText` object which is very similar.\n"
     ]
    }
   ],
   "source": [
    "languages_text = compute_languages(train['text'])"
   ],
   "metadata": {
    "collapsed": false,
    "ExecuteTime": {
     "end_time": "2023-09-12T14:29:45.836878Z",
     "start_time": "2023-09-12T14:29:42.351234Z"
    }
   },
   "id": "c03753ca234690d4"
  },
  {
   "cell_type": "markdown",
   "source": [
    "Now check the distributions of languages"
   ],
   "metadata": {
    "collapsed": false
   },
   "id": "a4f1fc2ed71b999c"
  },
  {
   "cell_type": "code",
   "execution_count": 17,
   "outputs": [
    {
     "data": {
      "text/plain": "__label__en    74782\n__label__es      156\n__label__ja       35\n__label__fr       12\n__label__pt        6\n__label__it        4\n__label__de        3\n__label__da        1\n__label__af        1\nName: text, dtype: int64"
     },
     "execution_count": 17,
     "metadata": {},
     "output_type": "execute_result"
    }
   ],
   "source": [
    "languages_text.value_counts()"
   ],
   "metadata": {
    "collapsed": false,
    "ExecuteTime": {
     "end_time": "2023-09-12T14:29:45.871646Z",
     "start_time": "2023-09-12T14:29:45.866092Z"
    }
   },
   "id": "c44950b9366c4840"
  },
  {
   "cell_type": "markdown",
   "source": [
    "There are instances not in English. Make same inspection for title"
   ],
   "metadata": {
    "collapsed": false
   },
   "id": "dde69e2313456463"
  },
  {
   "cell_type": "code",
   "execution_count": 18,
   "outputs": [
    {
     "name": "stderr",
     "output_type": "stream",
     "text": [
      "Warning : `load_model` does not return WordVectorModel or SupervisedModel any more, but a `FastText` object which is very similar.\n"
     ]
    },
    {
     "data": {
      "text/plain": "__label__en     70575\n__label__ja       807\n__label__fr       609\n__label__es       547\n__label__de       497\n                ...  \n__label__io         1\n__label__sco        1\n__label__pnb        1\n__label__lv         1\n__label__mt         1\nName: title, Length: 85, dtype: int64"
     },
     "execution_count": 18,
     "metadata": {},
     "output_type": "execute_result"
    }
   ],
   "source": [
    "languages_title = compute_languages(train['title'])\n",
    "languages_title.value_counts()"
   ],
   "metadata": {
    "collapsed": false,
    "ExecuteTime": {
     "end_time": "2023-09-12T14:29:46.956007Z",
     "start_time": "2023-09-12T14:29:46.006463Z"
    }
   },
   "id": "fe2f992e71a034f"
  },
  {
   "cell_type": "markdown",
   "source": [
    "Remove all not English reviews in title and text"
   ],
   "metadata": {
    "collapsed": false
   },
   "id": "f83ac514ab3eb55a"
  },
  {
   "cell_type": "code",
   "execution_count": 19,
   "outputs": [],
   "source": [
    "train = remove_not_modal_languages(languages_text)(train)\n",
    "train = remove_not_modal_languages(languages_title)(train)"
   ],
   "metadata": {
    "collapsed": false,
    "ExecuteTime": {
     "end_time": "2023-09-12T14:29:47.041001Z",
     "start_time": "2023-09-12T14:29:46.962791Z"
    }
   },
   "id": "f84c645d9e1bad9a"
  },
  {
   "cell_type": "markdown",
   "source": [
    "Now we use only 25_000 for each class, 125_000 reviews in total"
   ],
   "metadata": {
    "collapsed": false
   },
   "id": "c77690b54e8b73e1"
  },
  {
   "cell_type": "code",
   "execution_count": 20,
   "outputs": [
    {
     "data": {
      "text/plain": "5    5000\n4    5000\n3    5000\n2    5000\n1    5000\nName: stars, dtype: int64"
     },
     "execution_count": 20,
     "metadata": {},
     "output_type": "execute_result"
    }
   ],
   "source": [
    "train = sample_balanced(train, max_samples_per_class=5_000, groupby_column='stars')\n",
    "train['stars'].value_counts()"
   ],
   "metadata": {
    "collapsed": false,
    "ExecuteTime": {
     "end_time": "2023-09-12T14:29:47.087395Z",
     "start_time": "2023-09-12T14:29:47.046588Z"
    }
   },
   "id": "feeb10893ecf74ed"
  },
  {
   "cell_type": "markdown",
   "source": [
    "## Text preprocessing"
   ],
   "metadata": {
    "collapsed": false
   },
   "id": "ccc8e454e9a1737b"
  },
  {
   "cell_type": "markdown",
   "source": [
    "First of all merge title with text. That add more information (title could be a summarized version of the text)"
   ],
   "metadata": {
    "collapsed": false
   },
   "id": "ed658bc5ebda6e23"
  },
  {
   "cell_type": "code",
   "execution_count": 21,
   "outputs": [
    {
     "data": {
      "text/plain": "       stars                                               text\n0          1  handle comes loose I am pleased with the cooki...\n1          1  Which Restaurant ? I have tried & or studied t...\n2          1  Wish I had thought twice before buying this I ...\n3          1  Slime! I read one of these books years ago and...\n4          1  Extremely Disappointed!! I just received the S...\n...      ...                                                ...\n24995      5  A must for all programmers Whether or not inte...\n24996      5  Inspires clarity of purpose and vision After r...\n24997      5  Perfect. The best Discworld novel I've read to...\n24998      5  BEST CONCERT VIDEO I HAVE EVER SEEN A WONDERFU...\n24999      5  A necessary volume for the WWII historian If t...\n\n[25000 rows x 2 columns]",
      "text/html": "<div>\n<style scoped>\n    .dataframe tbody tr th:only-of-type {\n        vertical-align: middle;\n    }\n\n    .dataframe tbody tr th {\n        vertical-align: top;\n    }\n\n    .dataframe thead th {\n        text-align: right;\n    }\n</style>\n<table border=\"1\" class=\"dataframe\">\n  <thead>\n    <tr style=\"text-align: right;\">\n      <th></th>\n      <th>stars</th>\n      <th>text</th>\n    </tr>\n  </thead>\n  <tbody>\n    <tr>\n      <th>0</th>\n      <td>1</td>\n      <td>handle comes loose I am pleased with the cooki...</td>\n    </tr>\n    <tr>\n      <th>1</th>\n      <td>1</td>\n      <td>Which Restaurant ? I have tried &amp; or studied t...</td>\n    </tr>\n    <tr>\n      <th>2</th>\n      <td>1</td>\n      <td>Wish I had thought twice before buying this I ...</td>\n    </tr>\n    <tr>\n      <th>3</th>\n      <td>1</td>\n      <td>Slime! I read one of these books years ago and...</td>\n    </tr>\n    <tr>\n      <th>4</th>\n      <td>1</td>\n      <td>Extremely Disappointed!! I just received the S...</td>\n    </tr>\n    <tr>\n      <th>...</th>\n      <td>...</td>\n      <td>...</td>\n    </tr>\n    <tr>\n      <th>24995</th>\n      <td>5</td>\n      <td>A must for all programmers Whether or not inte...</td>\n    </tr>\n    <tr>\n      <th>24996</th>\n      <td>5</td>\n      <td>Inspires clarity of purpose and vision After r...</td>\n    </tr>\n    <tr>\n      <th>24997</th>\n      <td>5</td>\n      <td>Perfect. The best Discworld novel I've read to...</td>\n    </tr>\n    <tr>\n      <th>24998</th>\n      <td>5</td>\n      <td>BEST CONCERT VIDEO I HAVE EVER SEEN A WONDERFU...</td>\n    </tr>\n    <tr>\n      <th>24999</th>\n      <td>5</td>\n      <td>A necessary volume for the WWII historian If t...</td>\n    </tr>\n  </tbody>\n</table>\n<p>25000 rows × 2 columns</p>\n</div>"
     },
     "execution_count": 21,
     "metadata": {},
     "output_type": "execute_result"
    }
   ],
   "source": [
    "train['text'] = train['title'] + \" \" + train['text']\n",
    "del train['title']\n",
    "train"
   ],
   "metadata": {
    "collapsed": false,
    "ExecuteTime": {
     "end_time": "2023-09-12T14:29:47.137994Z",
     "start_time": "2023-09-12T14:29:47.101438Z"
    }
   },
   "id": "624c090ae8dac825"
  },
  {
   "cell_type": "markdown",
   "source": [
    "Now we preprocessed the dataframe to be manipulated and used in deep learning methods and with LSA. The operations that are performed sequentially are:\n",
    "- text to lower case\n",
    "- tokenization, \n",
    "- expansion of contractions, \n",
    "- word correction, \n",
    "- stop word removal \n",
    "- punctuation removal"
   ],
   "metadata": {
    "collapsed": false
   },
   "id": "fc3bc3e152cddfa0"
  },
  {
   "cell_type": "code",
   "execution_count": 22,
   "outputs": [],
   "source": [
    "train['text'] = apply_concurrent(preprocess_text)(train['text'])"
   ],
   "metadata": {
    "collapsed": false,
    "ExecuteTime": {
     "end_time": "2023-09-12T14:30:11.190586Z",
     "start_time": "2023-09-12T14:29:47.119065Z"
    }
   },
   "id": "9787b929563b1cae"
  },
  {
   "cell_type": "code",
   "execution_count": 23,
   "outputs": [],
   "source": [
    "# grouped = train.groupby('stars')['text'].apply(lambda x: ' '.join(x)).reset_index()\n",
    "# for star_rating, reviews in zip(grouped['stars'], grouped['text']):\n",
    "#   word_cloud(reviews, f'Word cloud for {star_rating} stars')\n",
    "  \n",
    "# Concatenate the aggregated reviews into a single string"
   ],
   "metadata": {
    "collapsed": false,
    "ExecuteTime": {
     "end_time": "2023-09-12T14:30:11.198779Z",
     "start_time": "2023-09-12T14:30:11.189128Z"
    }
   },
   "id": "f1b28f5a5b2856aa"
  },
  {
   "cell_type": "code",
   "execution_count": 110,
   "outputs": [
    {
     "name": "stdout",
     "output_type": "stream",
     "text": [
      "53167 in founded\n",
      "V transposed (100, 53167)\n",
      "[[ 1.81799025e-03  8.96225929e-04  5.98477499e-05 ...  1.33831263e-04\n",
      "   1.65544821e-04  6.23839486e-05]\n",
      " [-9.50524940e-04 -9.90301206e-04  4.15309213e-05 ... -1.40881440e-04\n",
      "   6.50342876e-04 -1.16294139e-04]\n",
      " [-1.92005440e-03 -1.55078077e-03 -3.48000626e-05 ...  7.59610717e-05\n",
      "   2.20582492e-04  4.32697902e-07]\n",
      " ...\n",
      " [-4.13482750e-03 -2.11270353e-03 -8.08091011e-05 ...  4.18766646e-04\n",
      "   2.62925724e-04  9.50549247e-04]\n",
      " [ 2.54282032e-03  5.55373199e-04 -1.95087503e-04 ... -7.59899075e-05\n",
      "  -2.35447014e-03  9.63647388e-05]\n",
      " [-1.34424888e-03  1.34822836e-03 -7.17633200e-05 ... -1.36282789e-04\n",
      "  -1.53175949e-03  6.37765614e-04]]\n"
     ]
    }
   ],
   "source": [
    "tfidf_sparse, words = tf_idf(train['text'])\n",
    "print(f'{len(words)} in founded')\n",
    "U, Sigma, V_T = randomized_svd(tfidf_sparse, n_components=100)\n",
    "\n",
    "\n",
    "print(f'V transposed {V_T.shape}')\n",
    "print(V_T)"
   ],
   "metadata": {
    "collapsed": false,
    "ExecuteTime": {
     "end_time": "2023-09-12T15:35:18.770637Z",
     "start_time": "2023-09-12T15:35:11.884425Z"
    }
   },
   "id": "9970a22ba7262440"
  },
  {
   "cell_type": "code",
   "execution_count": 79,
   "outputs": [
    {
     "name": "stdout",
     "output_type": "stream",
     "text": [
      "U shape: (25000, 100)\n",
      "[[ 0.00263958 -0.00218926 -0.00224323 ... -0.00147227  0.00292387\n",
      "   0.0005779 ]\n",
      " [ 0.00626319  0.00348412 -0.0011479  ...  0.01479196 -0.00057604\n",
      "  -0.00851435]\n",
      " [ 0.00566831 -0.00403804 -0.00359753 ...  0.00015696 -0.00475882\n",
      "   0.00177262]\n",
      " ...\n",
      " [ 0.00793639  0.0105103   0.00122689 ... -0.00094017 -0.01186797\n",
      "   0.0025232 ]\n",
      " [ 0.00363784 -0.00249429  0.00178558 ...  0.01364277 -0.01674047\n",
      "   0.01189056]\n",
      " [ 0.00339482  0.00650376 -0.00072918 ...  0.00469984  0.00040179\n",
      "  -0.00185968]]\n"
     ]
    }
   ],
   "source": [
    "print(f'U shape: {U.shape}')\n",
    "print(U)"
   ],
   "metadata": {
    "collapsed": false,
    "ExecuteTime": {
     "end_time": "2023-09-12T15:16:50.410402Z",
     "start_time": "2023-09-12T15:16:50.401148Z"
    }
   },
   "id": "7a770d8ea2c04a8d"
  },
  {
   "cell_type": "code",
   "execution_count": 80,
   "outputs": [
    {
     "name": "stdout",
     "output_type": "stream",
     "text": [
      "Sigma (100,)\n",
      "[20.52709903 11.71596801  9.66240955  9.34304845  8.33592456  7.9170591\n",
      "  7.27720855  7.19437573  6.86788544  6.76373627  6.70265509  6.44049326\n",
      "  6.28077924  6.13482304  6.03894347  5.97834135  5.93991384  5.86466984\n",
      "  5.81958774  5.74959127  5.67022496  5.62018596  5.57623645  5.5279978\n",
      "  5.49376532  5.46849277  5.45511915  5.39746387  5.3488461   5.30906662\n",
      "  5.22897246  5.21119045  5.18797851  5.16384191  5.12333802  5.10109492\n",
      "  5.05015784  5.00793727  4.98264148  4.97375561  4.95975113  4.92991865\n",
      "  4.91066504  4.90589879  4.85141581  4.82802045  4.80966478  4.79160347\n",
      "  4.77929149  4.76111406  4.75223593  4.73800007  4.70781093  4.68719907\n",
      "  4.66594713  4.66321257  4.63098948  4.62636124  4.59596024  4.58197768\n",
      "  4.57798645  4.55842152  4.54299988  4.53612751  4.51970875  4.51057726\n",
      "  4.50258028  4.48442533  4.47473765  4.45582     4.45166262  4.44830625\n",
      "  4.42981972  4.41779752  4.39346757  4.39075732  4.3735196   4.3639489\n",
      "  4.35582987  4.3308752   4.32721717  4.30715112  4.29137949  4.28321583\n",
      "  4.27779031  4.26073719  4.24015819  4.22985384  4.22182106  4.2110974\n",
      "  4.20102339  4.19734025  4.18905781  4.17333383  4.14968942  4.13400524\n",
      "  4.12669211  4.10716357  4.10533727  4.07757343]\n"
     ]
    }
   ],
   "source": [
    "print(f'Sigma {Sigma.shape}')\n",
    "print(Sigma)"
   ],
   "metadata": {
    "collapsed": false,
    "ExecuteTime": {
     "end_time": "2023-09-12T15:16:50.567185Z",
     "start_time": "2023-09-12T15:16:50.560206Z"
    }
   },
   "id": "ead5162c1312e4ce"
  },
  {
   "cell_type": "code",
   "execution_count": 81,
   "outputs": [
    {
     "name": "stdout",
     "output_type": "stream",
     "text": [
      "V transposed (100, 53167)\n",
      "[[ 1.81799025e-03  8.96225929e-04  5.98477499e-05 ...  1.33831263e-04\n",
      "   1.65544821e-04  6.23839486e-05]\n",
      " [-9.50524940e-04 -9.90301206e-04  4.15309213e-05 ... -1.40881440e-04\n",
      "   6.50342876e-04 -1.16294139e-04]\n",
      " [-1.92005440e-03 -1.55078077e-03 -3.48000626e-05 ...  7.59610717e-05\n",
      "   2.20582492e-04  4.32697902e-07]\n",
      " ...\n",
      " [-4.13482750e-03 -2.11270353e-03 -8.08091011e-05 ...  4.18766646e-04\n",
      "   2.62925724e-04  9.50549247e-04]\n",
      " [ 2.54282032e-03  5.55373199e-04 -1.95087503e-04 ... -7.59899075e-05\n",
      "  -2.35447014e-03  9.63647388e-05]\n",
      " [-1.34424888e-03  1.34822836e-03 -7.17633200e-05 ... -1.36282789e-04\n",
      "  -1.53175949e-03  6.37765614e-04]]\n"
     ]
    }
   ],
   "source": [
    "print(f'V transposed {V_T.shape}')\n",
    "print(V_T)"
   ],
   "metadata": {
    "collapsed": false,
    "ExecuteTime": {
     "end_time": "2023-09-12T15:16:51.160181Z",
     "start_time": "2023-09-12T15:16:51.142918Z"
    }
   },
   "id": "ca9cb05dbb6d6237"
  },
  {
   "cell_type": "code",
   "execution_count": 76,
   "outputs": [
    {
     "name": "stdout",
     "output_type": "stream",
     "text": [
      "[20.52709903 11.71596801  9.66240955  9.34304845  8.33592456  7.9170591\n",
      "  7.27720855  7.19437573  6.86788544  6.76373627]\n"
     ]
    },
    {
     "data": {
      "text/plain": "<Figure size 800x600 with 1 Axes>",
      "image/png": "[encoded data removed]"
     },
     "metadata": {},
     "output_type": "display_data"
    }
   ],
   "source": [
    "print(Sigma[:10])\n",
    "plot_singular_values(Sigma)"
   ],
   "metadata": {
    "collapsed": false,
    "ExecuteTime": {
     "end_time": "2023-09-12T15:13:50.321776Z",
     "start_time": "2023-09-12T15:13:50.156469Z"
    }
   },
   "id": "d7dd40f8413b603"
  },
  {
   "cell_type": "code",
   "execution_count": 117,
   "outputs": [],
   "source": [
    "terms_lsa = normalize(U @ diag(Sigma))\n",
    "documents_lsa = normalize(diag(Sigma) @ V_T)"
   ],
   "metadata": {
    "collapsed": false,
    "ExecuteTime": {
     "end_time": "2023-09-12T15:40:07.932731Z",
     "start_time": "2023-09-12T15:40:04.976951Z"
    }
   },
   "id": "804e7873e51d41f8"
  },
  {
   "cell_type": "code",
   "execution_count": 114,
   "outputs": [
    {
     "data": {
      "text/plain": "<Figure size 800x600 with 1 Axes>",
      "image/png": "[encoded data removed]"
     },
     "metadata": {},
     "output_type": "display_data"
    }
   ],
   "source": [
    "import seaborn as sns\n",
    "import matplotlib.pyplot as plt\n",
    "import pandas as pd\n",
    "\n",
    "# Create a sample DataFrame (replace with your own data)\n",
    "data = pd.DataFrame({\n",
    "    'X': [1, 2, 3, 4, 5],\n",
    "    'Y': [2, 3, 1, 4, 5],\n",
    "    'Label': ['A', 'B', 'C', 'D', 'E']\n",
    "})\n",
    "\n",
    "# Create a Seaborn scatterplot\n",
    "plt.figure(figsize=(8, 6))\n",
    "sns.scatterplot(data=terms_lsa, x='X', y='Y')\n",
    "\n",
    "# Add text labels under each point\n",
    "for row in data.itertuples():\n",
    "    plt.text(row.X, row.Y - 0.3, row.Label, ha='center', fontsize=12)\n",
    "\n",
    "# Add labels, title, and adjust plot settings as needed\n",
    "plt.xlabel('X-Axis')\n",
    "plt.ylabel('Y-Axis')\n",
    "plt.title('Scatterplot with Text Labels')\n",
    "plt.grid(True)\n",
    "\n",
    "# Show the plot\n",
    "plt.show()\n",
    "\n",
    "\n"
   ],
   "metadata": {
    "collapsed": false,
    "ExecuteTime": {
     "end_time": "2023-09-12T15:38:36.940474Z",
     "start_time": "2023-09-12T15:38:36.664865Z"
    }
   },
   "id": "20c2424b237a1a41"
  },
  {
   "cell_type": "code",
   "execution_count": 104,
   "outputs": [
    {
     "data": {
      "text/plain": "(25000, 100)"
     },
     "execution_count": 104,
     "metadata": {},
     "output_type": "execute_result"
    }
   ],
   "source": [
    "U.shape"
   ],
   "metadata": {
    "collapsed": false,
    "ExecuteTime": {
     "end_time": "2023-09-12T15:26:34.953258Z",
     "start_time": "2023-09-12T15:26:34.932672Z"
    }
   },
   "id": "aa3e08aade551cf9"
  },
  {
   "cell_type": "code",
   "execution_count": 34,
   "outputs": [
    {
     "name": "stdout",
     "output_type": "stream",
     "text": [
      "Matrix is sparse at 85.13 %\n"
     ]
    },
    {
     "data": {
      "text/plain": "scipy.sparse.csr.csr_matrix"
     },
     "execution_count": 34,
     "metadata": {},
     "output_type": "execute_result"
    }
   ],
   "source": [
    "\n",
    "dtm_sparse = dtm(train['text'])\n",
    "total_elements = dtm_sparse.shape[0] * dtm_sparse.shape[1]\n",
    "\n",
    "# Calculate the sparsity\n",
    "sparsity = 1 - (dtm_sparse.count_nonzero() / total_elements)\n",
    "print(f'Matrix is sparse at {sparsity * 100:.2f} %')\n",
    "type(dtm_sparse)"
   ],
   "metadata": {
    "collapsed": false,
    "ExecuteTime": {
     "end_time": "2023-09-12T14:38:42.153512Z",
     "start_time": "2023-09-12T14:38:40.386089Z"
    }
   },
   "id": "ed7c561daf929791"
  },
  {
   "cell_type": "code",
   "execution_count": 22,
   "outputs": [
    {
     "name": "stdout",
     "output_type": "stream",
     "text": [
      "Matrix is sparse at 99.93 %\n"
     ]
    }
   ],
   "source": [],
   "metadata": {
    "collapsed": false,
    "ExecuteTime": {
     "end_time": "2023-09-12T12:59:12.465531200Z",
     "start_time": "2023-09-12T12:59:12.404797300Z"
    }
   },
   "id": "1b294599152d79ae"
  },
  {
   "cell_type": "code",
   "execution_count": 27,
   "outputs": [
    {
     "data": {
      "text/plain": "0.06650871080139373"
     },
     "execution_count": 27,
     "metadata": {},
     "output_type": "execute_result"
    }
   ],
   "source": [
    "vectorizer = TfidfVectorizer()\n",
    "tfidf_matrix = vectorizer.fit_transform(train['text'])\n",
    "vectorizer = CountVectorizer()\n",
    "dtm_matrix = vectorizer.fit_transform(train['text'])\n",
    "\n",
    "# Convert tfidf_matrix to a sparse CSR (Compressed Sparse Row) matrix\n",
    "tfidf_sparse = csr_matrix(tfidf_matrix)\n",
    "dtm_sparse = csr_matrix(dtm_matrix)\n",
    "\n",
    "k = 2  # Number of singular values to compute\n",
    "U, Sigma, VT = svds(tfidf_sparse, k=k)\n",
    "dtm_sparse.count_nonzero()/(dtm_sparse.shape[0]*dtm_sparse.shape[1]) * 100"
   ],
   "metadata": {
    "collapsed": false,
    "ExecuteTime": {
     "end_time": "2023-09-12T13:04:39.460430100Z",
     "start_time": "2023-09-12T13:04:37.256932100Z"
    }
   },
   "id": "4f7b2d076ddc4c4d"
  },
  {
   "cell_type": "markdown",
   "source": [
    "## Create Tokenizer"
   ],
   "metadata": {
    "collapsed": false
   },
   "id": "1259834cea480c02"
  },
  {
   "cell_type": "code",
   "execution_count": 23,
   "outputs": [],
   "source": [],
   "metadata": {
    "collapsed": false,
    "ExecuteTime": {
     "end_time": "2023-09-12T12:59:14.300077100Z",
     "start_time": "2023-09-12T12:59:14.278072600Z"
    }
   },
   "id": "48fcf28f690c3af1"
  }
 ],
 "metadata": {
  "kernelspec": {
   "display_name": "Python 3",
   "language": "python",
   "name": "python3"
  },
  "language_info": {
   "codemirror_mode": {
    "name": "ipython",
    "version": 2
   },
   "file_extension": ".py",
   "mimetype": "text/x-python",
   "name": "python",
   "nbconvert_exporter": "python",
   "pygments_lexer": "ipython2",
   "version": "2.7.6"
  }
 },
 "nbformat": 4,
 "nbformat_minor": 5
}
