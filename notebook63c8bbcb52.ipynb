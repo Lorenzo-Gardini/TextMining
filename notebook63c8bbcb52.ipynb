{
 "metadata": {
  "kernelspec": {
   "language": "python",
   "display_name": "Python 3",
   "name": "python3"
  },
  "language_info": {
   "name": "python",
   "version": "3.10.10",
   "mimetype": "text/x-python",
   "codemirror_mode": {
    "name": "ipython",
    "version": 3
   },
   "pygments_lexer": "ipython3",
   "nbconvert_exporter": "python",
   "file_extension": ".py"
  }
 },
 "nbformat_minor": 4,
 "nbformat": 4,
 "cells": [
  {
   "cell_type": "markdown",
   "source": [
    "# **Importing Libraries & Downloading Data**"
   ],
   "metadata": {
    "id": "I_4Rb1FbpzJH"
   }
  },
  {
   "cell_type": "code",
   "source": [
    "import opendatasets as od\n",
    "od.download(\"https://www.kaggle.com/datasets/bittlingmayer/amazonreviews\")"
   ],
   "metadata": {
    "id": "CApVamAabKVm",
    "outputId": "13ecb490-5b29-45a0-a67a-ac4ca4dc83bd",
    "execution": {
     "iopub.status.busy": "2023-09-18T13:49:14.804761Z",
     "iopub.execute_input": "2023-09-18T13:49:14.805205Z",
     "iopub.status.idle": "2023-09-18T13:49:14.846513Z",
     "shell.execute_reply.started": "2023-09-18T13:49:14.805175Z",
     "shell.execute_reply": "2023-09-18T13:49:14.843511Z"
    },
    "trusted": true,
    "ExecuteTime": {
     "end_time": "2023-09-27T13:15:50.339045600Z",
     "start_time": "2023-09-27T13:15:50.279316800Z"
    }
   },
   "execution_count": 1,
   "outputs": [
    {
     "name": "stdout",
     "output_type": "stream",
     "text": [
      "Skipping, found downloaded files in \".\\amazonreviews\" (use force=True to force download)\n"
     ]
    }
   ]
  },
  {
   "cell_type": "code",
   "source": [
    "import numpy as np\n",
    "import pandas as pd\n",
    "import matplotlib.pyplot as plt\n",
    "import tensorflow as tf\n",
    "from tensorflow.keras import models,layers,optimizers\n",
    "import tensorflow\n",
    "from tensorflow.keras.preprocessing.text import Tokenizer, text_to_word_sequence\n",
    "from tensorflow.keras.preprocessing.sequence import pad_sequences\n",
    "import bz2\n",
    "from sklearn.metrics import f1_score, roc_auc_score, accuracy_score\n",
    "import re\n",
    "import keras\n",
    "%matplotlib inline\n",
    "import os\n",
    "print(os.listdir(\"amazonreviews\"))"
   ],
   "metadata": {
    "id": "ZFZbBk93o7wF",
    "outputId": "1d99cfaf-c463-4402-983a-0322aa28885f",
    "execution": {
     "iopub.status.busy": "2023-09-18T13:49:04.634130Z",
     "iopub.status.idle": "2023-09-18T13:49:04.636405Z",
     "shell.execute_reply.started": "2023-09-18T13:49:04.636162Z",
     "shell.execute_reply": "2023-09-18T13:49:04.636188Z"
    },
    "trusted": true,
    "ExecuteTime": {
     "end_time": "2023-09-27T13:15:55.690153500Z",
     "start_time": "2023-09-27T13:15:50.339045600Z"
    }
   },
   "execution_count": 2,
   "outputs": [
    {
     "name": "stdout",
     "output_type": "stream",
     "text": [
      "['test.ft.txt.bz2', 'train.ft.txt.bz2']\n"
     ]
    }
   ]
  },
  {
   "cell_type": "markdown",
   "source": [
    "# **Configuring for CUDA Processing**"
   ],
   "metadata": {
    "id": "hvWmcL-zprRF"
   }
  },
  {
   "cell_type": "code",
   "source": [
    "tf.config.experimental.list_physical_devices()"
   ],
   "metadata": {
    "id": "I5f0xneGo7wI",
    "outputId": "8cc0bc0e-21de-4d46-f963-52afed5be369",
    "execution": {
     "iopub.status.busy": "2023-09-18T13:49:04.640048Z",
     "iopub.status.idle": "2023-09-18T13:49:04.642072Z",
     "shell.execute_reply.started": "2023-09-18T13:49:04.641832Z",
     "shell.execute_reply": "2023-09-18T13:49:04.641857Z"
    },
    "trusted": true,
    "ExecuteTime": {
     "end_time": "2023-09-27T13:15:55.697156900Z",
     "start_time": "2023-09-27T13:15:55.681061600Z"
    }
   },
   "execution_count": 3,
   "outputs": [
    {
     "data": {
      "text/plain": "[PhysicalDevice(name='/physical_device:CPU:0', device_type='CPU')]"
     },
     "execution_count": 3,
     "metadata": {},
     "output_type": "execute_result"
    }
   ]
  },
  {
   "cell_type": "code",
   "source": [
    "tf.test.is_built_with_cuda()"
   ],
   "metadata": {
    "id": "fkCQggOJo7wJ",
    "outputId": "47b7f443-6f41-48f9-a2f3-c76e764a441f",
    "execution": {
     "iopub.status.busy": "2023-09-18T13:49:04.645525Z",
     "iopub.status.idle": "2023-09-18T13:49:04.647495Z",
     "shell.execute_reply.started": "2023-09-18T13:49:04.647273Z",
     "shell.execute_reply": "2023-09-18T13:49:04.647297Z"
    },
    "trusted": true,
    "ExecuteTime": {
     "end_time": "2023-09-27T13:15:55.767909900Z",
     "start_time": "2023-09-27T13:15:55.695155500Z"
    }
   },
   "execution_count": 4,
   "outputs": [
    {
     "data": {
      "text/plain": "False"
     },
     "execution_count": 4,
     "metadata": {},
     "output_type": "execute_result"
    }
   ]
  },
  {
   "cell_type": "markdown",
   "source": [
    "# **Reading data from File**"
   ],
   "metadata": {
    "id": "Zcc9hJqNpjiV"
   }
  },
  {
   "cell_type": "code",
   "source": [
    "def getdata(file):\n",
    "    labels=[]\n",
    "    texts=[]\n",
    "    for line in bz2.BZ2File(file):\n",
    "        x=line.decode()\n",
    "        labels.append(int(x[9])-1)\n",
    "        texts.append(x[11:].strip())\n",
    "    return np.array(labels),texts\n",
    "test = pd.read_csv('resources/test.csv')\n",
    "test.columns = ['sentiment', 'title', 'text']\n",
    "train =  pd.read_csv('resources/train.csv')\n",
    "train.columns = ['sentiment', 'title', 'text']"
   ],
   "metadata": {
    "id": "kt0orkrto7wK",
    "execution": {
     "iopub.status.busy": "2023-09-18T13:49:04.650741Z",
     "iopub.status.idle": "2023-09-18T13:49:04.651426Z",
     "shell.execute_reply.started": "2023-09-18T13:49:04.651221Z",
     "shell.execute_reply": "2023-09-18T13:49:04.651243Z"
    },
    "trusted": true,
    "ExecuteTime": {
     "end_time": "2023-09-27T13:16:13.882525800Z",
     "start_time": "2023-09-27T13:15:55.713410300Z"
    }
   },
   "execution_count": 5,
   "outputs": []
  },
  {
   "cell_type": "code",
   "execution_count": 68,
   "outputs": [],
   "source": [
    "train = pd.read_csv('resources/dataset.csv')\n",
    "train.columns = ['stars', 'title', 'text']\n",
    "#train = train[train['stars'] != 3]\n",
    "train['sentiment'] = train['stars'].replace({1:1, 2:1, 3:2, 4:3, 5:3})"
   ],
   "metadata": {
    "collapsed": false,
    "ExecuteTime": {
     "end_time": "2023-09-27T13:49:53.923980100Z",
     "start_time": "2023-09-27T13:49:37.777751900Z"
    }
   }
  },
  {
   "cell_type": "code",
   "execution_count": 69,
   "outputs": [],
   "source": [
    "test['text'] = test['title'] + \" \" + test['text']\n",
    "train['text'] = train['title'] + \" \" + train['text']\n",
    "#train_labels = keras.utils.to_categorical(train['stars'] - 1, num_classes=5)\n",
    "train_labels = keras.utils.to_categorical(train['sentiment'] - 1, num_classes=3)\n",
    "#train_labels = train['sentiment'] - 1\n",
    "train_texts = train['text'].astype(str).values"
   ],
   "metadata": {
    "collapsed": false,
    "ExecuteTime": {
     "end_time": "2023-09-27T13:49:56.452114100Z",
     "start_time": "2023-09-27T13:49:53.927982800Z"
    }
   }
  },
  {
   "cell_type": "code",
   "execution_count": 70,
   "outputs": [],
   "source": [
    "train_texts = train_texts[:500_000]\n",
    "train_labels = train_labels[:500_000]"
   ],
   "metadata": {
    "collapsed": false,
    "ExecuteTime": {
     "end_time": "2023-09-27T13:49:56.467119Z",
     "start_time": "2023-09-27T13:49:56.453114700Z"
    }
   }
  },
  {
   "cell_type": "markdown",
   "source": [
    "# **Text Preprocessing**"
   ],
   "metadata": {
    "id": "U1B78qd2pRPu"
   }
  },
  {
   "cell_type": "code",
   "source": [
    "def normalise(texts):\n",
    "    return np.array([re.compile(r\"[^a-z0-1\\s]\").sub(r\" \",re.compile(r\"['\\W']\").sub(r\" \",text.lower())) for text in texts])\n",
    "\n",
    "train_texts=normalise(train_texts)\n",
    "# test_texts=normalise(test_texts)"
   ],
   "metadata": {
    "id": "N5c2FirAo7wK",
    "execution": {
     "iopub.status.busy": "2023-09-18T13:49:04.659246Z",
     "iopub.status.idle": "2023-09-18T13:49:04.659934Z",
     "shell.execute_reply.started": "2023-09-18T13:49:04.659731Z",
     "shell.execute_reply": "2023-09-18T13:49:04.659754Z"
    },
    "trusted": true,
    "ExecuteTime": {
     "end_time": "2023-09-27T13:50:12.460007Z",
     "start_time": "2023-09-27T13:49:56.468118Z"
    }
   },
   "execution_count": 71,
   "outputs": []
  },
  {
   "cell_type": "markdown",
   "source": [
    "# **Train & Validation Split**\n",
    "### 20% for validation"
   ],
   "metadata": {
    "id": "kEiskbY0o2Ru"
   }
  },
  {
   "cell_type": "code",
   "execution_count": 71,
   "outputs": [],
   "source": [],
   "metadata": {
    "collapsed": false,
    "ExecuteTime": {
     "end_time": "2023-09-27T13:50:12.475011Z",
     "start_time": "2023-09-27T13:50:12.460007Z"
    }
   }
  },
  {
   "cell_type": "code",
   "source": [
    "from sklearn.model_selection import train_test_split\n",
    "train_texts, val_texts, train_labels, val_labels = train_test_split(train_texts, train_labels, random_state=0, test_size=0.2)"
   ],
   "metadata": {
    "id": "q9W_EAQEo7wL",
    "execution": {
     "iopub.status.busy": "2023-09-18T13:49:04.661125Z",
     "iopub.status.idle": "2023-09-18T13:49:04.661772Z",
     "shell.execute_reply.started": "2023-09-18T13:49:04.661563Z",
     "shell.execute_reply": "2023-09-18T13:49:04.661583Z"
    },
    "trusted": true,
    "ExecuteTime": {
     "end_time": "2023-09-27T13:50:16.705454900Z",
     "start_time": "2023-09-27T13:50:12.478011600Z"
    }
   },
   "execution_count": 72,
   "outputs": []
  },
  {
   "cell_type": "markdown",
   "source": [
    "## **Using top 12000 words as features**"
   ],
   "metadata": {
    "id": "C5k3_UXapCPB"
   }
  },
  {
   "cell_type": "code",
   "source": [
    "# tokenizer=Tokenizer(num_words=12000)\n",
    "# tokenizer.fit_on_texts(train_texts)\n",
    "# train_texts = tokenizer.texts_to_sequences(train_texts)\n",
    "# val_texts = tokenizer.texts_to_sequences(val_texts)\n",
    "# test_texts = tokenizer.texts_to_sequences(test_texts)"
   ],
   "metadata": {
    "id": "tAUP4LdJo7wM",
    "execution": {
     "iopub.status.busy": "2023-09-18T13:49:04.662949Z",
     "iopub.status.idle": "2023-09-18T13:49:04.663583Z",
     "shell.execute_reply.started": "2023-09-18T13:49:04.663393Z",
     "shell.execute_reply": "2023-09-18T13:49:04.663413Z"
    },
    "trusted": true,
    "ExecuteTime": {
     "end_time": "2023-09-27T13:50:16.721457700Z",
     "start_time": "2023-09-27T13:50:16.707454600Z"
    }
   },
   "execution_count": 73,
   "outputs": []
  },
  {
   "cell_type": "code",
   "source": [
    "# mlen = max(len(train_ex) for train_ex in train_texts)\n",
    "# train_texts = pad_sequences(train_texts, maxlen=mlen)\n",
    "# val_texts = pad_sequences(val_texts, maxlen=mlen)\n",
    "# test_texts = pad_sequences(test_texts, maxlen=mlen)"
   ],
   "metadata": {
    "id": "Y9t3OM_ko7wM",
    "execution": {
     "iopub.status.busy": "2023-09-18T13:49:04.673554Z",
     "iopub.status.idle": "2023-09-18T13:49:04.674205Z",
     "shell.execute_reply.started": "2023-09-18T13:49:04.674001Z",
     "shell.execute_reply": "2023-09-18T13:49:04.674020Z"
    },
    "trusted": true,
    "ExecuteTime": {
     "end_time": "2023-09-27T13:50:16.759465800Z",
     "start_time": "2023-09-27T13:50:16.722458800Z"
    }
   },
   "execution_count": 74,
   "outputs": []
  },
  {
   "cell_type": "code",
   "execution_count": 75,
   "outputs": [],
   "source": [
    "from keras.src.layers import TextVectorization\n",
    "mlen = max(len(train_ex) for train_ex in train_texts)\n",
    "vectorize_layer = TextVectorization(max_tokens=12_000, output_sequence_length=mlen)\n",
    "vectorize_layer.adapt(train_texts)"
   ],
   "metadata": {
    "collapsed": false,
    "ExecuteTime": {
     "end_time": "2023-09-27T13:50:39.822710Z",
     "start_time": "2023-09-27T13:50:16.740460800Z"
    }
   }
  },
  {
   "cell_type": "markdown",
   "source": [
    "# **Convolutional Neural Net Model (CNN)**"
   ],
   "metadata": {
    "id": "yLlTJkcwofk6"
   }
  },
  {
   "cell_type": "code",
   "source": [
    "from keras.src.layers import Embedding, BatchNormalization, MaxPooling1D, GlobalMaxPooling1D, Activation, Dense, Dropout, Input, Conv1D, Flatten\n",
    "from keras import Sequential\n",
    "\n",
    "def build_model():\n",
    "    sequences = layers.Input(shape=(1,), dtype='string')\n",
    "    x = vectorize_layer(sequences)\n",
    "    embedded = layers.Embedding(12000, 64)(x)\n",
    "    \n",
    "    x = layers.Conv1D(64, 3, activation='relu')(embedded)\n",
    "    x = layers.BatchNormalization()(x)\n",
    "    x = layers.MaxPool1D(3)(x)\n",
    "    \n",
    "    x = layers.Conv1D(64, 5, activation='relu')(x)\n",
    "    x = layers.BatchNormalization()(x)\n",
    "    x = layers.MaxPool1D(5)(x)\n",
    "    \n",
    "    x = layers.Conv1D(64, 5, activation='relu')(x)\n",
    "    x = layers.GlobalMaxPool1D()(x)\n",
    "    x = layers.Flatten()(x)\n",
    "    \n",
    "    x = layers.Dense(100, activation='relu')(x)\n",
    "    predictions = layers.Dense(3, activation='softmax')(x)\n",
    "    model = models.Model(inputs=sequences, outputs=predictions)\n",
    "    model.compile(optimizer='rmsprop',loss='categorical_crossentropy',metrics=['accuracy'])\n",
    "    return model\n",
    "\n",
    "def build_model2(n_classes):\n",
    "    model = Sequential([\n",
    "        Input(shape=(1,), dtype='string'),\n",
    "        vectorize_layer,\n",
    "        Embedding(12_000, 64),\n",
    "        \n",
    "        Conv1D(64, 3),\n",
    "        BatchNormalization(),\n",
    "        Activation('relu'),\n",
    "        MaxPooling1D(3),\n",
    "        \n",
    "        Conv1D(64, 5),\n",
    "        BatchNormalization(),\n",
    "        Activation('relu'),\n",
    "        MaxPooling1D(5),\n",
    "                \n",
    "        Conv1D(64, 5),\n",
    "        BatchNormalization(),\n",
    "        Activation('relu'),\n",
    "        GlobalMaxPooling1D(),\n",
    "        \n",
    "        Flatten(),\n",
    "        \n",
    "        Dense(100, activation='relu'),\n",
    "        Dense(n_classes, activation='softmax')\n",
    "    ])\n",
    "    model.compile(optimizer='adam',loss='categorical_crossentropy',metrics=['accuracy'])\n",
    "    return model"
   ],
   "metadata": {
    "id": "uXM-6sMAo7wN",
    "execution": {
     "iopub.status.busy": "2023-09-18T13:49:04.677131Z",
     "iopub.status.idle": "2023-09-18T13:49:04.677784Z",
     "shell.execute_reply.started": "2023-09-18T13:49:04.677577Z",
     "shell.execute_reply": "2023-09-18T13:49:04.677597Z"
    },
    "trusted": true,
    "ExecuteTime": {
     "end_time": "2023-09-27T14:28:54.808846300Z",
     "start_time": "2023-09-27T14:28:54.771837500Z"
    }
   },
   "execution_count": 91,
   "outputs": []
  },
  {
   "cell_type": "code",
   "source": [
    "with tf.device('/GPU:0'):\n",
    "    model = build_model2(3)\n",
    "    model.fit(train_texts,train_labels,batch_size=128,epochs=2,validation_data=(val_texts,val_labels))"
   ],
   "metadata": {
    "id": "0qK_NXk1o7wN",
    "outputId": "95303dad-5581-4403-ebee-21581dab5c3e",
    "execution": {
     "iopub.status.busy": "2023-09-18T13:49:04.678883Z",
     "iopub.status.idle": "2023-09-18T13:49:04.679511Z",
     "shell.execute_reply.started": "2023-09-18T13:49:04.679323Z",
     "shell.execute_reply": "2023-09-18T13:49:04.679343Z"
    },
    "trusted": true,
    "ExecuteTime": {
     "end_time": "2023-09-27T14:58:38.873878100Z",
     "start_time": "2023-09-27T14:28:55.496042800Z"
    }
   },
   "execution_count": 92,
   "outputs": [
    {
     "name": "stdout",
     "output_type": "stream",
     "text": [
      "Epoch 1/2\n",
      "3125/3125 [==============================] - 1275s 407ms/step - loss: 0.6419 - accuracy: 0.7257 - val_loss: 0.5640 - val_accuracy: 0.7665\n",
      "Epoch 2/2\n",
      "1101/3125 [=========>....................] - ETA: 15:30 - loss: 0.5218 - accuracy: 0.7847"
     ]
    },
    {
     "ename": "KeyboardInterrupt",
     "evalue": "",
     "output_type": "error",
     "traceback": [
      "\u001B[1;31m---------------------------------------------------------------------------\u001B[0m",
      "\u001B[1;31mKeyboardInterrupt\u001B[0m                         Traceback (most recent call last)",
      "Cell \u001B[1;32mIn[92], line 3\u001B[0m\n\u001B[0;32m      1\u001B[0m \u001B[38;5;28;01mwith\u001B[39;00m tf\u001B[38;5;241m.\u001B[39mdevice(\u001B[38;5;124m'\u001B[39m\u001B[38;5;124m/GPU:0\u001B[39m\u001B[38;5;124m'\u001B[39m):\n\u001B[0;32m      2\u001B[0m     model \u001B[38;5;241m=\u001B[39m build_model2(\u001B[38;5;241m3\u001B[39m)\n\u001B[1;32m----> 3\u001B[0m     \u001B[43mmodel\u001B[49m\u001B[38;5;241;43m.\u001B[39;49m\u001B[43mfit\u001B[49m\u001B[43m(\u001B[49m\u001B[43mtrain_texts\u001B[49m\u001B[43m,\u001B[49m\u001B[43mtrain_labels\u001B[49m\u001B[43m,\u001B[49m\u001B[43mbatch_size\u001B[49m\u001B[38;5;241;43m=\u001B[39;49m\u001B[38;5;241;43m128\u001B[39;49m\u001B[43m,\u001B[49m\u001B[43mepochs\u001B[49m\u001B[38;5;241;43m=\u001B[39;49m\u001B[38;5;241;43m2\u001B[39;49m\u001B[43m,\u001B[49m\u001B[43mvalidation_data\u001B[49m\u001B[38;5;241;43m=\u001B[39;49m\u001B[43m(\u001B[49m\u001B[43mval_texts\u001B[49m\u001B[43m,\u001B[49m\u001B[43mval_labels\u001B[49m\u001B[43m)\u001B[49m\u001B[43m)\u001B[49m\n",
      "File \u001B[1;32m~\\AppData\\Local\\Programs\\Python\\Python39\\lib\\site-packages\\keras\\src\\utils\\traceback_utils.py:65\u001B[0m, in \u001B[0;36mfilter_traceback.<locals>.error_handler\u001B[1;34m(*args, **kwargs)\u001B[0m\n\u001B[0;32m     63\u001B[0m filtered_tb \u001B[38;5;241m=\u001B[39m \u001B[38;5;28;01mNone\u001B[39;00m\n\u001B[0;32m     64\u001B[0m \u001B[38;5;28;01mtry\u001B[39;00m:\n\u001B[1;32m---> 65\u001B[0m     \u001B[38;5;28;01mreturn\u001B[39;00m fn(\u001B[38;5;241m*\u001B[39margs, \u001B[38;5;241m*\u001B[39m\u001B[38;5;241m*\u001B[39mkwargs)\n\u001B[0;32m     66\u001B[0m \u001B[38;5;28;01mexcept\u001B[39;00m \u001B[38;5;167;01mException\u001B[39;00m \u001B[38;5;28;01mas\u001B[39;00m e:\n\u001B[0;32m     67\u001B[0m     filtered_tb \u001B[38;5;241m=\u001B[39m _process_traceback_frames(e\u001B[38;5;241m.\u001B[39m__traceback__)\n",
      "File \u001B[1;32m~\\AppData\\Local\\Programs\\Python\\Python39\\lib\\site-packages\\keras\\src\\engine\\training.py:1742\u001B[0m, in \u001B[0;36mModel.fit\u001B[1;34m(self, x, y, batch_size, epochs, verbose, callbacks, validation_split, validation_data, shuffle, class_weight, sample_weight, initial_epoch, steps_per_epoch, validation_steps, validation_batch_size, validation_freq, max_queue_size, workers, use_multiprocessing)\u001B[0m\n\u001B[0;32m   1734\u001B[0m \u001B[38;5;28;01mwith\u001B[39;00m tf\u001B[38;5;241m.\u001B[39mprofiler\u001B[38;5;241m.\u001B[39mexperimental\u001B[38;5;241m.\u001B[39mTrace(\n\u001B[0;32m   1735\u001B[0m     \u001B[38;5;124m\"\u001B[39m\u001B[38;5;124mtrain\u001B[39m\u001B[38;5;124m\"\u001B[39m,\n\u001B[0;32m   1736\u001B[0m     epoch_num\u001B[38;5;241m=\u001B[39mepoch,\n\u001B[1;32m   (...)\u001B[0m\n\u001B[0;32m   1739\u001B[0m     _r\u001B[38;5;241m=\u001B[39m\u001B[38;5;241m1\u001B[39m,\n\u001B[0;32m   1740\u001B[0m ):\n\u001B[0;32m   1741\u001B[0m     callbacks\u001B[38;5;241m.\u001B[39mon_train_batch_begin(step)\n\u001B[1;32m-> 1742\u001B[0m     tmp_logs \u001B[38;5;241m=\u001B[39m \u001B[38;5;28;43mself\u001B[39;49m\u001B[38;5;241;43m.\u001B[39;49m\u001B[43mtrain_function\u001B[49m\u001B[43m(\u001B[49m\u001B[43miterator\u001B[49m\u001B[43m)\u001B[49m\n\u001B[0;32m   1743\u001B[0m     \u001B[38;5;28;01mif\u001B[39;00m data_handler\u001B[38;5;241m.\u001B[39mshould_sync:\n\u001B[0;32m   1744\u001B[0m         context\u001B[38;5;241m.\u001B[39masync_wait()\n",
      "File \u001B[1;32m~\\AppData\\Local\\Programs\\Python\\Python39\\lib\\site-packages\\tensorflow\\python\\util\\traceback_utils.py:150\u001B[0m, in \u001B[0;36mfilter_traceback.<locals>.error_handler\u001B[1;34m(*args, **kwargs)\u001B[0m\n\u001B[0;32m    148\u001B[0m filtered_tb \u001B[38;5;241m=\u001B[39m \u001B[38;5;28;01mNone\u001B[39;00m\n\u001B[0;32m    149\u001B[0m \u001B[38;5;28;01mtry\u001B[39;00m:\n\u001B[1;32m--> 150\u001B[0m   \u001B[38;5;28;01mreturn\u001B[39;00m fn(\u001B[38;5;241m*\u001B[39margs, \u001B[38;5;241m*\u001B[39m\u001B[38;5;241m*\u001B[39mkwargs)\n\u001B[0;32m    151\u001B[0m \u001B[38;5;28;01mexcept\u001B[39;00m \u001B[38;5;167;01mException\u001B[39;00m \u001B[38;5;28;01mas\u001B[39;00m e:\n\u001B[0;32m    152\u001B[0m   filtered_tb \u001B[38;5;241m=\u001B[39m _process_traceback_frames(e\u001B[38;5;241m.\u001B[39m__traceback__)\n",
      "File \u001B[1;32m~\\AppData\\Local\\Programs\\Python\\Python39\\lib\\site-packages\\tensorflow\\python\\eager\\polymorphic_function\\polymorphic_function.py:825\u001B[0m, in \u001B[0;36mFunction.__call__\u001B[1;34m(self, *args, **kwds)\u001B[0m\n\u001B[0;32m    822\u001B[0m compiler \u001B[38;5;241m=\u001B[39m \u001B[38;5;124m\"\u001B[39m\u001B[38;5;124mxla\u001B[39m\u001B[38;5;124m\"\u001B[39m \u001B[38;5;28;01mif\u001B[39;00m \u001B[38;5;28mself\u001B[39m\u001B[38;5;241m.\u001B[39m_jit_compile \u001B[38;5;28;01melse\u001B[39;00m \u001B[38;5;124m\"\u001B[39m\u001B[38;5;124mnonXla\u001B[39m\u001B[38;5;124m\"\u001B[39m\n\u001B[0;32m    824\u001B[0m \u001B[38;5;28;01mwith\u001B[39;00m OptionalXlaContext(\u001B[38;5;28mself\u001B[39m\u001B[38;5;241m.\u001B[39m_jit_compile):\n\u001B[1;32m--> 825\u001B[0m   result \u001B[38;5;241m=\u001B[39m \u001B[38;5;28mself\u001B[39m\u001B[38;5;241m.\u001B[39m_call(\u001B[38;5;241m*\u001B[39margs, \u001B[38;5;241m*\u001B[39m\u001B[38;5;241m*\u001B[39mkwds)\n\u001B[0;32m    827\u001B[0m new_tracing_count \u001B[38;5;241m=\u001B[39m \u001B[38;5;28mself\u001B[39m\u001B[38;5;241m.\u001B[39mexperimental_get_tracing_count()\n\u001B[0;32m    828\u001B[0m without_tracing \u001B[38;5;241m=\u001B[39m (tracing_count \u001B[38;5;241m==\u001B[39m new_tracing_count)\n",
      "File \u001B[1;32m~\\AppData\\Local\\Programs\\Python\\Python39\\lib\\site-packages\\tensorflow\\python\\eager\\polymorphic_function\\polymorphic_function.py:857\u001B[0m, in \u001B[0;36mFunction._call\u001B[1;34m(self, *args, **kwds)\u001B[0m\n\u001B[0;32m    854\u001B[0m   \u001B[38;5;28mself\u001B[39m\u001B[38;5;241m.\u001B[39m_lock\u001B[38;5;241m.\u001B[39mrelease()\n\u001B[0;32m    855\u001B[0m   \u001B[38;5;66;03m# In this case we have created variables on the first call, so we run the\u001B[39;00m\n\u001B[0;32m    856\u001B[0m   \u001B[38;5;66;03m# defunned version which is guaranteed to never create variables.\u001B[39;00m\n\u001B[1;32m--> 857\u001B[0m   \u001B[38;5;28;01mreturn\u001B[39;00m \u001B[38;5;28mself\u001B[39m\u001B[38;5;241m.\u001B[39m_no_variable_creation_fn(\u001B[38;5;241m*\u001B[39margs, \u001B[38;5;241m*\u001B[39m\u001B[38;5;241m*\u001B[39mkwds)  \u001B[38;5;66;03m# pylint: disable=not-callable\u001B[39;00m\n\u001B[0;32m    858\u001B[0m \u001B[38;5;28;01melif\u001B[39;00m \u001B[38;5;28mself\u001B[39m\u001B[38;5;241m.\u001B[39m_variable_creation_fn \u001B[38;5;129;01mis\u001B[39;00m \u001B[38;5;129;01mnot\u001B[39;00m \u001B[38;5;28;01mNone\u001B[39;00m:\n\u001B[0;32m    859\u001B[0m   \u001B[38;5;66;03m# Release the lock early so that multiple threads can perform the call\u001B[39;00m\n\u001B[0;32m    860\u001B[0m   \u001B[38;5;66;03m# in parallel.\u001B[39;00m\n\u001B[0;32m    861\u001B[0m   \u001B[38;5;28mself\u001B[39m\u001B[38;5;241m.\u001B[39m_lock\u001B[38;5;241m.\u001B[39mrelease()\n",
      "File \u001B[1;32m~\\AppData\\Local\\Programs\\Python\\Python39\\lib\\site-packages\\tensorflow\\python\\eager\\polymorphic_function\\tracing_compiler.py:148\u001B[0m, in \u001B[0;36mTracingCompiler.__call__\u001B[1;34m(self, *args, **kwargs)\u001B[0m\n\u001B[0;32m    145\u001B[0m \u001B[38;5;28;01mwith\u001B[39;00m \u001B[38;5;28mself\u001B[39m\u001B[38;5;241m.\u001B[39m_lock:\n\u001B[0;32m    146\u001B[0m   (concrete_function,\n\u001B[0;32m    147\u001B[0m    filtered_flat_args) \u001B[38;5;241m=\u001B[39m \u001B[38;5;28mself\u001B[39m\u001B[38;5;241m.\u001B[39m_maybe_define_function(args, kwargs)\n\u001B[1;32m--> 148\u001B[0m \u001B[38;5;28;01mreturn\u001B[39;00m \u001B[43mconcrete_function\u001B[49m\u001B[38;5;241;43m.\u001B[39;49m\u001B[43m_call_flat\u001B[49m\u001B[43m(\u001B[49m\n\u001B[0;32m    149\u001B[0m \u001B[43m    \u001B[49m\u001B[43mfiltered_flat_args\u001B[49m\u001B[43m,\u001B[49m\u001B[43m \u001B[49m\u001B[43mcaptured_inputs\u001B[49m\u001B[38;5;241;43m=\u001B[39;49m\u001B[43mconcrete_function\u001B[49m\u001B[38;5;241;43m.\u001B[39;49m\u001B[43mcaptured_inputs\u001B[49m\u001B[43m)\u001B[49m\n",
      "File \u001B[1;32m~\\AppData\\Local\\Programs\\Python\\Python39\\lib\\site-packages\\tensorflow\\python\\eager\\polymorphic_function\\monomorphic_function.py:1349\u001B[0m, in \u001B[0;36mConcreteFunction._call_flat\u001B[1;34m(self, args, captured_inputs)\u001B[0m\n\u001B[0;32m   1345\u001B[0m possible_gradient_type \u001B[38;5;241m=\u001B[39m gradients_util\u001B[38;5;241m.\u001B[39mPossibleTapeGradientTypes(args)\n\u001B[0;32m   1346\u001B[0m \u001B[38;5;28;01mif\u001B[39;00m (possible_gradient_type \u001B[38;5;241m==\u001B[39m gradients_util\u001B[38;5;241m.\u001B[39mPOSSIBLE_GRADIENT_TYPES_NONE\n\u001B[0;32m   1347\u001B[0m     \u001B[38;5;129;01mand\u001B[39;00m executing_eagerly):\n\u001B[0;32m   1348\u001B[0m   \u001B[38;5;66;03m# No tape is watching; skip to running the function.\u001B[39;00m\n\u001B[1;32m-> 1349\u001B[0m   \u001B[38;5;28;01mreturn\u001B[39;00m \u001B[38;5;28mself\u001B[39m\u001B[38;5;241m.\u001B[39m_build_call_outputs(\u001B[38;5;28;43mself\u001B[39;49m\u001B[38;5;241;43m.\u001B[39;49m\u001B[43m_inference_function\u001B[49m\u001B[43m(\u001B[49m\u001B[38;5;241;43m*\u001B[39;49m\u001B[43margs\u001B[49m\u001B[43m)\u001B[49m)\n\u001B[0;32m   1350\u001B[0m forward_backward \u001B[38;5;241m=\u001B[39m \u001B[38;5;28mself\u001B[39m\u001B[38;5;241m.\u001B[39m_select_forward_and_backward_functions(\n\u001B[0;32m   1351\u001B[0m     args,\n\u001B[0;32m   1352\u001B[0m     possible_gradient_type,\n\u001B[0;32m   1353\u001B[0m     executing_eagerly)\n\u001B[0;32m   1354\u001B[0m forward_function, args_with_tangents \u001B[38;5;241m=\u001B[39m forward_backward\u001B[38;5;241m.\u001B[39mforward()\n",
      "File \u001B[1;32m~\\AppData\\Local\\Programs\\Python\\Python39\\lib\\site-packages\\tensorflow\\python\\eager\\polymorphic_function\\atomic_function.py:196\u001B[0m, in \u001B[0;36mAtomicFunction.__call__\u001B[1;34m(self, *args)\u001B[0m\n\u001B[0;32m    194\u001B[0m \u001B[38;5;28;01mwith\u001B[39;00m record\u001B[38;5;241m.\u001B[39mstop_recording():\n\u001B[0;32m    195\u001B[0m   \u001B[38;5;28;01mif\u001B[39;00m \u001B[38;5;28mself\u001B[39m\u001B[38;5;241m.\u001B[39m_bound_context\u001B[38;5;241m.\u001B[39mexecuting_eagerly():\n\u001B[1;32m--> 196\u001B[0m     outputs \u001B[38;5;241m=\u001B[39m \u001B[38;5;28;43mself\u001B[39;49m\u001B[38;5;241;43m.\u001B[39;49m\u001B[43m_bound_context\u001B[49m\u001B[38;5;241;43m.\u001B[39;49m\u001B[43mcall_function\u001B[49m\u001B[43m(\u001B[49m\n\u001B[0;32m    197\u001B[0m \u001B[43m        \u001B[49m\u001B[38;5;28;43mself\u001B[39;49m\u001B[38;5;241;43m.\u001B[39;49m\u001B[43mname\u001B[49m\u001B[43m,\u001B[49m\n\u001B[0;32m    198\u001B[0m \u001B[43m        \u001B[49m\u001B[38;5;28;43mlist\u001B[39;49m\u001B[43m(\u001B[49m\u001B[43margs\u001B[49m\u001B[43m)\u001B[49m\u001B[43m,\u001B[49m\n\u001B[0;32m    199\u001B[0m \u001B[43m        \u001B[49m\u001B[38;5;28;43mlen\u001B[39;49m\u001B[43m(\u001B[49m\u001B[38;5;28;43mself\u001B[39;49m\u001B[38;5;241;43m.\u001B[39;49m\u001B[43mfunction_type\u001B[49m\u001B[38;5;241;43m.\u001B[39;49m\u001B[43mflat_outputs\u001B[49m\u001B[43m)\u001B[49m\u001B[43m,\u001B[49m\n\u001B[0;32m    200\u001B[0m \u001B[43m    \u001B[49m\u001B[43m)\u001B[49m\n\u001B[0;32m    201\u001B[0m   \u001B[38;5;28;01melse\u001B[39;00m:\n\u001B[0;32m    202\u001B[0m     outputs \u001B[38;5;241m=\u001B[39m make_call_op_in_graph(\u001B[38;5;28mself\u001B[39m, \u001B[38;5;28mlist\u001B[39m(args))\n",
      "File \u001B[1;32m~\\AppData\\Local\\Programs\\Python\\Python39\\lib\\site-packages\\tensorflow\\python\\eager\\context.py:1457\u001B[0m, in \u001B[0;36mContext.call_function\u001B[1;34m(self, name, tensor_inputs, num_outputs)\u001B[0m\n\u001B[0;32m   1455\u001B[0m cancellation_context \u001B[38;5;241m=\u001B[39m cancellation\u001B[38;5;241m.\u001B[39mcontext()\n\u001B[0;32m   1456\u001B[0m \u001B[38;5;28;01mif\u001B[39;00m cancellation_context \u001B[38;5;129;01mis\u001B[39;00m \u001B[38;5;28;01mNone\u001B[39;00m:\n\u001B[1;32m-> 1457\u001B[0m   outputs \u001B[38;5;241m=\u001B[39m \u001B[43mexecute\u001B[49m\u001B[38;5;241;43m.\u001B[39;49m\u001B[43mexecute\u001B[49m\u001B[43m(\u001B[49m\n\u001B[0;32m   1458\u001B[0m \u001B[43m      \u001B[49m\u001B[43mname\u001B[49m\u001B[38;5;241;43m.\u001B[39;49m\u001B[43mdecode\u001B[49m\u001B[43m(\u001B[49m\u001B[38;5;124;43m\"\u001B[39;49m\u001B[38;5;124;43mutf-8\u001B[39;49m\u001B[38;5;124;43m\"\u001B[39;49m\u001B[43m)\u001B[49m\u001B[43m,\u001B[49m\n\u001B[0;32m   1459\u001B[0m \u001B[43m      \u001B[49m\u001B[43mnum_outputs\u001B[49m\u001B[38;5;241;43m=\u001B[39;49m\u001B[43mnum_outputs\u001B[49m\u001B[43m,\u001B[49m\n\u001B[0;32m   1460\u001B[0m \u001B[43m      \u001B[49m\u001B[43minputs\u001B[49m\u001B[38;5;241;43m=\u001B[39;49m\u001B[43mtensor_inputs\u001B[49m\u001B[43m,\u001B[49m\n\u001B[0;32m   1461\u001B[0m \u001B[43m      \u001B[49m\u001B[43mattrs\u001B[49m\u001B[38;5;241;43m=\u001B[39;49m\u001B[43mattrs\u001B[49m\u001B[43m,\u001B[49m\n\u001B[0;32m   1462\u001B[0m \u001B[43m      \u001B[49m\u001B[43mctx\u001B[49m\u001B[38;5;241;43m=\u001B[39;49m\u001B[38;5;28;43mself\u001B[39;49m\u001B[43m,\u001B[49m\n\u001B[0;32m   1463\u001B[0m \u001B[43m  \u001B[49m\u001B[43m)\u001B[49m\n\u001B[0;32m   1464\u001B[0m \u001B[38;5;28;01melse\u001B[39;00m:\n\u001B[0;32m   1465\u001B[0m   outputs \u001B[38;5;241m=\u001B[39m execute\u001B[38;5;241m.\u001B[39mexecute_with_cancellation(\n\u001B[0;32m   1466\u001B[0m       name\u001B[38;5;241m.\u001B[39mdecode(\u001B[38;5;124m\"\u001B[39m\u001B[38;5;124mutf-8\u001B[39m\u001B[38;5;124m\"\u001B[39m),\n\u001B[0;32m   1467\u001B[0m       num_outputs\u001B[38;5;241m=\u001B[39mnum_outputs,\n\u001B[1;32m   (...)\u001B[0m\n\u001B[0;32m   1471\u001B[0m       cancellation_manager\u001B[38;5;241m=\u001B[39mcancellation_context,\n\u001B[0;32m   1472\u001B[0m   )\n",
      "File \u001B[1;32m~\\AppData\\Local\\Programs\\Python\\Python39\\lib\\site-packages\\tensorflow\\python\\eager\\execute.py:53\u001B[0m, in \u001B[0;36mquick_execute\u001B[1;34m(op_name, num_outputs, inputs, attrs, ctx, name)\u001B[0m\n\u001B[0;32m     51\u001B[0m \u001B[38;5;28;01mtry\u001B[39;00m:\n\u001B[0;32m     52\u001B[0m   ctx\u001B[38;5;241m.\u001B[39mensure_initialized()\n\u001B[1;32m---> 53\u001B[0m   tensors \u001B[38;5;241m=\u001B[39m \u001B[43mpywrap_tfe\u001B[49m\u001B[38;5;241;43m.\u001B[39;49m\u001B[43mTFE_Py_Execute\u001B[49m\u001B[43m(\u001B[49m\u001B[43mctx\u001B[49m\u001B[38;5;241;43m.\u001B[39;49m\u001B[43m_handle\u001B[49m\u001B[43m,\u001B[49m\u001B[43m \u001B[49m\u001B[43mdevice_name\u001B[49m\u001B[43m,\u001B[49m\u001B[43m \u001B[49m\u001B[43mop_name\u001B[49m\u001B[43m,\u001B[49m\n\u001B[0;32m     54\u001B[0m \u001B[43m                                      \u001B[49m\u001B[43minputs\u001B[49m\u001B[43m,\u001B[49m\u001B[43m \u001B[49m\u001B[43mattrs\u001B[49m\u001B[43m,\u001B[49m\u001B[43m \u001B[49m\u001B[43mnum_outputs\u001B[49m\u001B[43m)\u001B[49m\n\u001B[0;32m     55\u001B[0m \u001B[38;5;28;01mexcept\u001B[39;00m core\u001B[38;5;241m.\u001B[39m_NotOkStatusException \u001B[38;5;28;01mas\u001B[39;00m e:\n\u001B[0;32m     56\u001B[0m   \u001B[38;5;28;01mif\u001B[39;00m name \u001B[38;5;129;01mis\u001B[39;00m \u001B[38;5;129;01mnot\u001B[39;00m \u001B[38;5;28;01mNone\u001B[39;00m:\n",
      "\u001B[1;31mKeyboardInterrupt\u001B[0m: "
     ]
    }
   ]
  },
  {
   "cell_type": "code",
   "source": [
    "preds = model.predict(test_texts)\n",
    "print('Accuracy score: {:0.4}'.format(accuracy_score(test_labels, 1 * (preds > 0.5))))\n",
    "print('F1 score: {:0.4}'.format(f1_score(test_labels, 1 * (preds > 0.5))))\n",
    "print('ROC AUC score: {:0.4}'.format(roc_auc_score(test_labels, preds)))"
   ],
   "metadata": {
    "id": "V3PBRWkSo7wO",
    "outputId": "3fa18a46-9947-41e0-edfd-04fee0850872",
    "execution": {
     "iopub.status.busy": "2023-09-18T13:49:04.680594Z",
     "iopub.status.idle": "2023-09-18T13:49:04.681241Z",
     "shell.execute_reply.started": "2023-09-18T13:49:04.681043Z",
     "shell.execute_reply": "2023-09-18T13:49:04.681073Z"
    },
    "trusted": true,
    "ExecuteTime": {
     "end_time": "2023-09-27T13:21:08.596501100Z",
     "start_time": "2023-09-27T13:21:08.594500800Z"
    }
   },
   "execution_count": null,
   "outputs": []
  },
  {
   "cell_type": "markdown",
   "source": [
    "# **Therefore we get an accuracy of about 94-95%**"
   ],
   "metadata": {
    "id": "QkW8wGlDoEwS"
   }
  }
 ]
}
